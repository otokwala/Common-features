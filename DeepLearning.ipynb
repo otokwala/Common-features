{
  "nbformat": 4,
  "nbformat_minor": 0,
  "metadata": {
    "colab": {
      "provenance": [],
      "include_colab_link": true
    },
    "kernelspec": {
      "name": "python3",
      "display_name": "Python 3"
    },
    "language_info": {
      "name": "python"
    }
  },
  "cells": [
    {
      "cell_type": "markdown",
      "metadata": {
        "id": "view-in-github",
        "colab_type": "text"
      },
      "source": [
        "<a href=\"https://colab.research.google.com/github/otokwala/Common-features/blob/main/DeepLearning.ipynb\" target=\"_parent\"><img src=\"https://colab.research.google.com/assets/colab-badge.svg\" alt=\"Open In Colab\"/></a>"
      ]
    },
    {
      "cell_type": "code",
      "source": [
        "from google.colab import drive\n",
        "drive.mount('/content/drive')"
      ],
      "metadata": {
        "colab": {
          "base_uri": "https://localhost:8080/"
        },
        "id": "0Fn6OvqwbjSN",
        "outputId": "25acec75-d1af-4fab-e09d-271445071b8a"
      },
      "execution_count": 3,
      "outputs": [
        {
          "output_type": "stream",
          "name": "stdout",
          "text": [
            "Mounted at /content/drive\n"
          ]
        }
      ]
    },
    {
      "cell_type": "code",
      "execution_count": 1,
      "metadata": {
        "id": "aNIyXYdxIWIJ"
      },
      "outputs": [],
      "source": [
        "import numpy as np\n",
        "from keras.datasets import imdb\n",
        "from keras.models import Sequential\n",
        "from keras.layers import Dense\n",
        "import pandas as pd\n",
        "\n",
        "from keras.preprocessing import sequence\n",
        "from keras.utils import np_utils\n",
        "from sklearn.model_selection import train_test_split\n",
        "\n",
        "from keras.datasets import imdb\n",
        "from keras.models import Sequential\n",
        "from keras.layers import Dense\n",
        "from keras.layers import LSTM\n",
        "from keras.layers import Embedding\n",
        "from keras.preprocessing import sequence\n",
        "from keras.utils import np_utils"
      ]
    },
    {
      "cell_type": "code",
      "source": [
        "df=pd.read_csv('/content/drive/MyDrive/Datasets/DF3.csv')\n",
        "df.shape"
      ],
      "metadata": {
        "colab": {
          "base_uri": "https://localhost:8080/"
        },
        "id": "85sIiAIcI31O",
        "outputId": "be57235d-d91a-4c85-d16d-133fc0e9e98b"
      },
      "execution_count": 4,
      "outputs": [
        {
          "output_type": "execute_result",
          "data": {
            "text/plain": [
              "(225711, 5)"
            ]
          },
          "metadata": {},
          "execution_count": 4
        }
      ]
    },
    {
      "cell_type": "code",
      "source": [
        "df.head(3)"
      ],
      "metadata": {
        "colab": {
          "base_uri": "https://localhost:8080/",
          "height": 143
        },
        "id": "zroTtfnpb5d8",
        "outputId": "c51adc75-b44f-4ce8-ab38-3fb47735f8a1"
      },
      "execution_count": 5,
      "outputs": [
        {
          "output_type": "execute_result",
          "data": {
            "text/plain": [
              "         V1        V2        V3        V4  Labels\n",
              "0 -0.253908  0.088630  0.247481 -0.358719       0\n",
              "1 -0.153446  0.676119  0.390619 -0.303980       0\n",
              "2 -0.153728  0.676059  0.390683 -0.303741       0"
            ],
            "text/html": [
              "\n",
              "  <div id=\"df-7760d33a-3ea7-4a0d-9cdd-f06ee87a820d\">\n",
              "    <div class=\"colab-df-container\">\n",
              "      <div>\n",
              "<style scoped>\n",
              "    .dataframe tbody tr th:only-of-type {\n",
              "        vertical-align: middle;\n",
              "    }\n",
              "\n",
              "    .dataframe tbody tr th {\n",
              "        vertical-align: top;\n",
              "    }\n",
              "\n",
              "    .dataframe thead th {\n",
              "        text-align: right;\n",
              "    }\n",
              "</style>\n",
              "<table border=\"1\" class=\"dataframe\">\n",
              "  <thead>\n",
              "    <tr style=\"text-align: right;\">\n",
              "      <th></th>\n",
              "      <th>V1</th>\n",
              "      <th>V2</th>\n",
              "      <th>V3</th>\n",
              "      <th>V4</th>\n",
              "      <th>Labels</th>\n",
              "    </tr>\n",
              "  </thead>\n",
              "  <tbody>\n",
              "    <tr>\n",
              "      <th>0</th>\n",
              "      <td>-0.253908</td>\n",
              "      <td>0.088630</td>\n",
              "      <td>0.247481</td>\n",
              "      <td>-0.358719</td>\n",
              "      <td>0</td>\n",
              "    </tr>\n",
              "    <tr>\n",
              "      <th>1</th>\n",
              "      <td>-0.153446</td>\n",
              "      <td>0.676119</td>\n",
              "      <td>0.390619</td>\n",
              "      <td>-0.303980</td>\n",
              "      <td>0</td>\n",
              "    </tr>\n",
              "    <tr>\n",
              "      <th>2</th>\n",
              "      <td>-0.153728</td>\n",
              "      <td>0.676059</td>\n",
              "      <td>0.390683</td>\n",
              "      <td>-0.303741</td>\n",
              "      <td>0</td>\n",
              "    </tr>\n",
              "  </tbody>\n",
              "</table>\n",
              "</div>\n",
              "      <button class=\"colab-df-convert\" onclick=\"convertToInteractive('df-7760d33a-3ea7-4a0d-9cdd-f06ee87a820d')\"\n",
              "              title=\"Convert this dataframe to an interactive table.\"\n",
              "              style=\"display:none;\">\n",
              "        \n",
              "  <svg xmlns=\"http://www.w3.org/2000/svg\" height=\"24px\"viewBox=\"0 0 24 24\"\n",
              "       width=\"24px\">\n",
              "    <path d=\"M0 0h24v24H0V0z\" fill=\"none\"/>\n",
              "    <path d=\"M18.56 5.44l.94 2.06.94-2.06 2.06-.94-2.06-.94-.94-2.06-.94 2.06-2.06.94zm-11 1L8.5 8.5l.94-2.06 2.06-.94-2.06-.94L8.5 2.5l-.94 2.06-2.06.94zm10 10l.94 2.06.94-2.06 2.06-.94-2.06-.94-.94-2.06-.94 2.06-2.06.94z\"/><path d=\"M17.41 7.96l-1.37-1.37c-.4-.4-.92-.59-1.43-.59-.52 0-1.04.2-1.43.59L10.3 9.45l-7.72 7.72c-.78.78-.78 2.05 0 2.83L4 21.41c.39.39.9.59 1.41.59.51 0 1.02-.2 1.41-.59l7.78-7.78 2.81-2.81c.8-.78.8-2.07 0-2.86zM5.41 20L4 18.59l7.72-7.72 1.47 1.35L5.41 20z\"/>\n",
              "  </svg>\n",
              "      </button>\n",
              "      \n",
              "  <style>\n",
              "    .colab-df-container {\n",
              "      display:flex;\n",
              "      flex-wrap:wrap;\n",
              "      gap: 12px;\n",
              "    }\n",
              "\n",
              "    .colab-df-convert {\n",
              "      background-color: #E8F0FE;\n",
              "      border: none;\n",
              "      border-radius: 50%;\n",
              "      cursor: pointer;\n",
              "      display: none;\n",
              "      fill: #1967D2;\n",
              "      height: 32px;\n",
              "      padding: 0 0 0 0;\n",
              "      width: 32px;\n",
              "    }\n",
              "\n",
              "    .colab-df-convert:hover {\n",
              "      background-color: #E2EBFA;\n",
              "      box-shadow: 0px 1px 2px rgba(60, 64, 67, 0.3), 0px 1px 3px 1px rgba(60, 64, 67, 0.15);\n",
              "      fill: #174EA6;\n",
              "    }\n",
              "\n",
              "    [theme=dark] .colab-df-convert {\n",
              "      background-color: #3B4455;\n",
              "      fill: #D2E3FC;\n",
              "    }\n",
              "\n",
              "    [theme=dark] .colab-df-convert:hover {\n",
              "      background-color: #434B5C;\n",
              "      box-shadow: 0px 1px 3px 1px rgba(0, 0, 0, 0.15);\n",
              "      filter: drop-shadow(0px 1px 2px rgba(0, 0, 0, 0.3));\n",
              "      fill: #FFFFFF;\n",
              "    }\n",
              "  </style>\n",
              "\n",
              "      <script>\n",
              "        const buttonEl =\n",
              "          document.querySelector('#df-7760d33a-3ea7-4a0d-9cdd-f06ee87a820d button.colab-df-convert');\n",
              "        buttonEl.style.display =\n",
              "          google.colab.kernel.accessAllowed ? 'block' : 'none';\n",
              "\n",
              "        async function convertToInteractive(key) {\n",
              "          const element = document.querySelector('#df-7760d33a-3ea7-4a0d-9cdd-f06ee87a820d');\n",
              "          const dataTable =\n",
              "            await google.colab.kernel.invokeFunction('convertToInteractive',\n",
              "                                                     [key], {});\n",
              "          if (!dataTable) return;\n",
              "\n",
              "          const docLinkHtml = 'Like what you see? Visit the ' +\n",
              "            '<a target=\"_blank\" href=https://colab.research.google.com/notebooks/data_table.ipynb>data table notebook</a>'\n",
              "            + ' to learn more about interactive tables.';\n",
              "          element.innerHTML = '';\n",
              "          dataTable['output_type'] = 'display_data';\n",
              "          await google.colab.output.renderOutput(dataTable, element);\n",
              "          const docLink = document.createElement('div');\n",
              "          docLink.innerHTML = docLinkHtml;\n",
              "          element.appendChild(docLink);\n",
              "        }\n",
              "      </script>\n",
              "    </div>\n",
              "  </div>\n",
              "  "
            ]
          },
          "metadata": {},
          "execution_count": 5
        }
      ]
    },
    {
      "cell_type": "code",
      "source": [
        "#df1=df.drop(['Unnamed: 4'], axis=1)\n",
        "#df1.shape"
      ],
      "metadata": {
        "colab": {
          "base_uri": "https://localhost:8080/"
        },
        "id": "tq_C5Qr8LcE2",
        "outputId": "b87c3d6e-ed2c-48eb-805c-d1c6ba9545b4"
      },
      "execution_count": null,
      "outputs": [
        {
          "output_type": "execute_result",
          "data": {
            "text/plain": [
              "(225711, 4)"
            ]
          },
          "metadata": {},
          "execution_count": 17
        }
      ]
    },
    {
      "cell_type": "code",
      "source": [
        "labels=np.array(df[['Labels']])\n",
        "#len(labels)"
      ],
      "metadata": {
        "id": "t76r44AZLrIO"
      },
      "execution_count": 16,
      "outputs": []
    },
    {
      "cell_type": "code",
      "source": [
        "f=df.drop(['Labels'],axis=1)"
      ],
      "metadata": {
        "id": "1HQRPNxWdrfS"
      },
      "execution_count": 17,
      "outputs": []
    },
    {
      "cell_type": "code",
      "source": [
        "X_train, X_test, y_train, y_test = train_test_split( f, labels, test_size=0.3, random_state=42)"
      ],
      "metadata": {
        "id": "z4moRT7mL0C8"
      },
      "execution_count": 38,
      "outputs": []
    },
    {
      "cell_type": "code",
      "source": [
        "X_train.shape, X_test.shape, y_train.shape, y_test.shape"
      ],
      "metadata": {
        "colab": {
          "base_uri": "https://localhost:8080/"
        },
        "id": "ZMiXejMKMBn6",
        "outputId": "30e93f83-38b7-4d2f-cb81-ed80bf195c20"
      },
      "execution_count": 39,
      "outputs": [
        {
          "output_type": "execute_result",
          "data": {
            "text/plain": [
              "((157997, 4), (67714, 4), (157997, 1), (67714, 1))"
            ]
          },
          "metadata": {},
          "execution_count": 39
        }
      ]
    },
    {
      "cell_type": "code",
      "source": [
        "model = Sequential()\n",
        "model.add(Dense(12, input_shape=(4,), activation='relu'))\n",
        "model.add(Dense(8, activation='relu'))\n",
        "model.add(Dense(1, activation='sigmoid'))"
      ],
      "metadata": {
        "id": "g_XNm8SeI38w"
      },
      "execution_count": 20,
      "outputs": []
    },
    {
      "cell_type": "code",
      "source": [
        "model.summary()"
      ],
      "metadata": {
        "colab": {
          "base_uri": "https://localhost:8080/"
        },
        "id": "8PlMm1XOI3_S",
        "outputId": "2802d177-4a29-4895-d905-2454f2537bf2"
      },
      "execution_count": 21,
      "outputs": [
        {
          "output_type": "stream",
          "name": "stdout",
          "text": [
            "Model: \"sequential_1\"\n",
            "_________________________________________________________________\n",
            " Layer (type)                Output Shape              Param #   \n",
            "=================================================================\n",
            " dense_3 (Dense)             (None, 12)                60        \n",
            "                                                                 \n",
            " dense_4 (Dense)             (None, 8)                 104       \n",
            "                                                                 \n",
            " dense_5 (Dense)             (None, 1)                 9         \n",
            "                                                                 \n",
            "=================================================================\n",
            "Total params: 173\n",
            "Trainable params: 173\n",
            "Non-trainable params: 0\n",
            "_________________________________________________________________\n"
          ]
        }
      ]
    },
    {
      "cell_type": "code",
      "source": [
        "model.compile(loss='binary_crossentropy', optimizer='adam', metrics=['accuracy'])"
      ],
      "metadata": {
        "id": "JHlzN-atMvBP"
      },
      "execution_count": 22,
      "outputs": []
    },
    {
      "cell_type": "code",
      "source": [
        "history=model.fit(X_train, y_train, epochs=150, batch_size=256, validation_split=0.2).history"
      ],
      "metadata": {
        "colab": {
          "base_uri": "https://localhost:8080/"
        },
        "id": "lUqFxkq7I4Bx",
        "outputId": "813b6543-49a7-4a4b-e225-f1f960d75b07"
      },
      "execution_count": 23,
      "outputs": [
        {
          "output_type": "stream",
          "name": "stdout",
          "text": [
            "Epoch 1/150\n",
            "494/494 [==============================] - 2s 2ms/step - loss: 0.3374 - accuracy: 0.9251 - val_loss: 0.1053 - val_accuracy: 0.9741\n",
            "Epoch 2/150\n",
            "494/494 [==============================] - 1s 1ms/step - loss: 0.0709 - accuracy: 0.9770 - val_loss: 0.0493 - val_accuracy: 0.9831\n",
            "Epoch 3/150\n",
            "494/494 [==============================] - 1s 2ms/step - loss: 0.0420 - accuracy: 0.9852 - val_loss: 0.0345 - val_accuracy: 0.9873\n",
            "Epoch 4/150\n",
            "494/494 [==============================] - 1s 2ms/step - loss: 0.0324 - accuracy: 0.9876 - val_loss: 0.0284 - val_accuracy: 0.9885\n",
            "Epoch 5/150\n",
            "494/494 [==============================] - 1s 1ms/step - loss: 0.0274 - accuracy: 0.9892 - val_loss: 0.0241 - val_accuracy: 0.9895\n",
            "Epoch 6/150\n",
            "494/494 [==============================] - 1s 1ms/step - loss: 0.0238 - accuracy: 0.9904 - val_loss: 0.0215 - val_accuracy: 0.9904\n",
            "Epoch 7/150\n",
            "494/494 [==============================] - 1s 2ms/step - loss: 0.0220 - accuracy: 0.9918 - val_loss: 0.0199 - val_accuracy: 0.9931\n",
            "Epoch 8/150\n",
            "494/494 [==============================] - 1s 2ms/step - loss: 0.0209 - accuracy: 0.9927 - val_loss: 0.0189 - val_accuracy: 0.9929\n",
            "Epoch 9/150\n",
            "494/494 [==============================] - 1s 1ms/step - loss: 0.0202 - accuracy: 0.9933 - val_loss: 0.0185 - val_accuracy: 0.9928\n",
            "Epoch 10/150\n",
            "494/494 [==============================] - 1s 2ms/step - loss: 0.0195 - accuracy: 0.9940 - val_loss: 0.0177 - val_accuracy: 0.9934\n",
            "Epoch 11/150\n",
            "494/494 [==============================] - 1s 2ms/step - loss: 0.0191 - accuracy: 0.9943 - val_loss: 0.0172 - val_accuracy: 0.9955\n",
            "Epoch 12/150\n",
            "494/494 [==============================] - 1s 2ms/step - loss: 0.0188 - accuracy: 0.9947 - val_loss: 0.0171 - val_accuracy: 0.9964\n",
            "Epoch 13/150\n",
            "494/494 [==============================] - 1s 2ms/step - loss: 0.0185 - accuracy: 0.9950 - val_loss: 0.0166 - val_accuracy: 0.9955\n",
            "Epoch 14/150\n",
            "494/494 [==============================] - 1s 2ms/step - loss: 0.0183 - accuracy: 0.9951 - val_loss: 0.0163 - val_accuracy: 0.9954\n",
            "Epoch 15/150\n",
            "494/494 [==============================] - 1s 1ms/step - loss: 0.0181 - accuracy: 0.9953 - val_loss: 0.0162 - val_accuracy: 0.9965\n",
            "Epoch 16/150\n",
            "494/494 [==============================] - 1s 1ms/step - loss: 0.0178 - accuracy: 0.9956 - val_loss: 0.0160 - val_accuracy: 0.9943\n",
            "Epoch 17/150\n",
            "494/494 [==============================] - 1s 1ms/step - loss: 0.0175 - accuracy: 0.9956 - val_loss: 0.0160 - val_accuracy: 0.9941\n",
            "Epoch 18/150\n",
            "494/494 [==============================] - 1s 2ms/step - loss: 0.0173 - accuracy: 0.9957 - val_loss: 0.0155 - val_accuracy: 0.9954\n",
            "Epoch 19/150\n",
            "494/494 [==============================] - 1s 2ms/step - loss: 0.0170 - accuracy: 0.9960 - val_loss: 0.0154 - val_accuracy: 0.9952\n",
            "Epoch 20/150\n",
            "494/494 [==============================] - 1s 1ms/step - loss: 0.0168 - accuracy: 0.9960 - val_loss: 0.0151 - val_accuracy: 0.9966\n",
            "Epoch 21/150\n",
            "494/494 [==============================] - 1s 2ms/step - loss: 0.0165 - accuracy: 0.9961 - val_loss: 0.0149 - val_accuracy: 0.9966\n",
            "Epoch 22/150\n",
            "494/494 [==============================] - 1s 1ms/step - loss: 0.0162 - accuracy: 0.9962 - val_loss: 0.0146 - val_accuracy: 0.9962\n",
            "Epoch 23/150\n",
            "494/494 [==============================] - 1s 2ms/step - loss: 0.0159 - accuracy: 0.9962 - val_loss: 0.0152 - val_accuracy: 0.9941\n",
            "Epoch 24/150\n",
            "494/494 [==============================] - 1s 1ms/step - loss: 0.0157 - accuracy: 0.9961 - val_loss: 0.0148 - val_accuracy: 0.9973\n",
            "Epoch 25/150\n",
            "494/494 [==============================] - 1s 2ms/step - loss: 0.0154 - accuracy: 0.9964 - val_loss: 0.0140 - val_accuracy: 0.9965\n",
            "Epoch 26/150\n",
            "494/494 [==============================] - 1s 2ms/step - loss: 0.0151 - accuracy: 0.9964 - val_loss: 0.0138 - val_accuracy: 0.9970\n",
            "Epoch 27/150\n",
            "494/494 [==============================] - 1s 2ms/step - loss: 0.0149 - accuracy: 0.9963 - val_loss: 0.0137 - val_accuracy: 0.9972\n",
            "Epoch 28/150\n",
            "494/494 [==============================] - 1s 2ms/step - loss: 0.0147 - accuracy: 0.9965 - val_loss: 0.0135 - val_accuracy: 0.9970\n",
            "Epoch 29/150\n",
            "494/494 [==============================] - 1s 2ms/step - loss: 0.0144 - accuracy: 0.9966 - val_loss: 0.0133 - val_accuracy: 0.9968\n",
            "Epoch 30/150\n",
            "494/494 [==============================] - 1s 1ms/step - loss: 0.0143 - accuracy: 0.9966 - val_loss: 0.0131 - val_accuracy: 0.9970\n",
            "Epoch 31/150\n",
            "494/494 [==============================] - 1s 2ms/step - loss: 0.0142 - accuracy: 0.9967 - val_loss: 0.0130 - val_accuracy: 0.9968\n",
            "Epoch 32/150\n",
            "494/494 [==============================] - 1s 2ms/step - loss: 0.0139 - accuracy: 0.9967 - val_loss: 0.0129 - val_accuracy: 0.9966\n",
            "Epoch 33/150\n",
            "494/494 [==============================] - 1s 2ms/step - loss: 0.0136 - accuracy: 0.9968 - val_loss: 0.0129 - val_accuracy: 0.9972\n",
            "Epoch 34/150\n",
            "494/494 [==============================] - 1s 1ms/step - loss: 0.0136 - accuracy: 0.9967 - val_loss: 0.0127 - val_accuracy: 0.9966\n",
            "Epoch 35/150\n",
            "494/494 [==============================] - 1s 2ms/step - loss: 0.0133 - accuracy: 0.9967 - val_loss: 0.0128 - val_accuracy: 0.9973\n",
            "Epoch 36/150\n",
            "494/494 [==============================] - 1s 1ms/step - loss: 0.0132 - accuracy: 0.9968 - val_loss: 0.0125 - val_accuracy: 0.9973\n",
            "Epoch 37/150\n",
            "494/494 [==============================] - 1s 1ms/step - loss: 0.0131 - accuracy: 0.9967 - val_loss: 0.0122 - val_accuracy: 0.9970\n",
            "Epoch 38/150\n",
            "494/494 [==============================] - 1s 2ms/step - loss: 0.0130 - accuracy: 0.9969 - val_loss: 0.0121 - val_accuracy: 0.9969\n",
            "Epoch 39/150\n",
            "494/494 [==============================] - 1s 2ms/step - loss: 0.0127 - accuracy: 0.9969 - val_loss: 0.0124 - val_accuracy: 0.9974\n",
            "Epoch 40/150\n",
            "494/494 [==============================] - 1s 1ms/step - loss: 0.0126 - accuracy: 0.9970 - val_loss: 0.0121 - val_accuracy: 0.9973\n",
            "Epoch 41/150\n",
            "494/494 [==============================] - 1s 1ms/step - loss: 0.0125 - accuracy: 0.9969 - val_loss: 0.0119 - val_accuracy: 0.9973\n",
            "Epoch 42/150\n",
            "494/494 [==============================] - 1s 3ms/step - loss: 0.0124 - accuracy: 0.9969 - val_loss: 0.0117 - val_accuracy: 0.9972\n",
            "Epoch 43/150\n",
            "494/494 [==============================] - 1s 3ms/step - loss: 0.0124 - accuracy: 0.9969 - val_loss: 0.0118 - val_accuracy: 0.9973\n",
            "Epoch 44/150\n",
            "494/494 [==============================] - 1s 2ms/step - loss: 0.0123 - accuracy: 0.9970 - val_loss: 0.0117 - val_accuracy: 0.9970\n",
            "Epoch 45/150\n",
            "494/494 [==============================] - 1s 2ms/step - loss: 0.0122 - accuracy: 0.9969 - val_loss: 0.0116 - val_accuracy: 0.9972\n",
            "Epoch 46/150\n",
            "494/494 [==============================] - 1s 1ms/step - loss: 0.0123 - accuracy: 0.9970 - val_loss: 0.0117 - val_accuracy: 0.9973\n",
            "Epoch 47/150\n",
            "494/494 [==============================] - 1s 2ms/step - loss: 0.0121 - accuracy: 0.9970 - val_loss: 0.0115 - val_accuracy: 0.9972\n",
            "Epoch 48/150\n",
            "494/494 [==============================] - 1s 2ms/step - loss: 0.0120 - accuracy: 0.9970 - val_loss: 0.0114 - val_accuracy: 0.9973\n",
            "Epoch 49/150\n",
            "494/494 [==============================] - 1s 2ms/step - loss: 0.0119 - accuracy: 0.9970 - val_loss: 0.0115 - val_accuracy: 0.9974\n",
            "Epoch 50/150\n",
            "494/494 [==============================] - 1s 1ms/step - loss: 0.0119 - accuracy: 0.9970 - val_loss: 0.0113 - val_accuracy: 0.9972\n",
            "Epoch 51/150\n",
            "494/494 [==============================] - 1s 1ms/step - loss: 0.0120 - accuracy: 0.9969 - val_loss: 0.0113 - val_accuracy: 0.9973\n",
            "Epoch 52/150\n",
            "494/494 [==============================] - 1s 2ms/step - loss: 0.0118 - accuracy: 0.9969 - val_loss: 0.0114 - val_accuracy: 0.9972\n",
            "Epoch 53/150\n",
            "494/494 [==============================] - 1s 2ms/step - loss: 0.0118 - accuracy: 0.9970 - val_loss: 0.0113 - val_accuracy: 0.9973\n",
            "Epoch 54/150\n",
            "494/494 [==============================] - 1s 1ms/step - loss: 0.0118 - accuracy: 0.9970 - val_loss: 0.0112 - val_accuracy: 0.9972\n",
            "Epoch 55/150\n",
            "494/494 [==============================] - 1s 1ms/step - loss: 0.0117 - accuracy: 0.9970 - val_loss: 0.0111 - val_accuracy: 0.9972\n",
            "Epoch 56/150\n",
            "494/494 [==============================] - 1s 2ms/step - loss: 0.0116 - accuracy: 0.9970 - val_loss: 0.0112 - val_accuracy: 0.9974\n",
            "Epoch 57/150\n",
            "494/494 [==============================] - 1s 1ms/step - loss: 0.0116 - accuracy: 0.9970 - val_loss: 0.0111 - val_accuracy: 0.9972\n",
            "Epoch 58/150\n",
            "494/494 [==============================] - 1s 2ms/step - loss: 0.0115 - accuracy: 0.9971 - val_loss: 0.0124 - val_accuracy: 0.9964\n",
            "Epoch 59/150\n",
            "494/494 [==============================] - 1s 2ms/step - loss: 0.0116 - accuracy: 0.9970 - val_loss: 0.0116 - val_accuracy: 0.9967\n",
            "Epoch 60/150\n",
            "494/494 [==============================] - 1s 2ms/step - loss: 0.0114 - accuracy: 0.9971 - val_loss: 0.0109 - val_accuracy: 0.9972\n",
            "Epoch 61/150\n",
            "494/494 [==============================] - 1s 2ms/step - loss: 0.0114 - accuracy: 0.9971 - val_loss: 0.0109 - val_accuracy: 0.9973\n",
            "Epoch 62/150\n",
            "494/494 [==============================] - 1s 2ms/step - loss: 0.0115 - accuracy: 0.9969 - val_loss: 0.0109 - val_accuracy: 0.9973\n",
            "Epoch 63/150\n",
            "494/494 [==============================] - 1s 2ms/step - loss: 0.0113 - accuracy: 0.9970 - val_loss: 0.0110 - val_accuracy: 0.9974\n",
            "Epoch 64/150\n",
            "494/494 [==============================] - 1s 2ms/step - loss: 0.0111 - accuracy: 0.9970 - val_loss: 0.0106 - val_accuracy: 0.9972\n",
            "Epoch 65/150\n",
            "494/494 [==============================] - 1s 2ms/step - loss: 0.0112 - accuracy: 0.9970 - val_loss: 0.0107 - val_accuracy: 0.9972\n",
            "Epoch 66/150\n",
            "494/494 [==============================] - 1s 2ms/step - loss: 0.0112 - accuracy: 0.9970 - val_loss: 0.0111 - val_accuracy: 0.9972\n",
            "Epoch 67/150\n",
            "494/494 [==============================] - 1s 1ms/step - loss: 0.0112 - accuracy: 0.9971 - val_loss: 0.0109 - val_accuracy: 0.9974\n",
            "Epoch 68/150\n",
            "494/494 [==============================] - 1s 1ms/step - loss: 0.0112 - accuracy: 0.9970 - val_loss: 0.0106 - val_accuracy: 0.9972\n",
            "Epoch 69/150\n",
            "494/494 [==============================] - 1s 1ms/step - loss: 0.0111 - accuracy: 0.9971 - val_loss: 0.0107 - val_accuracy: 0.9972\n",
            "Epoch 70/150\n",
            "494/494 [==============================] - 1s 1ms/step - loss: 0.0110 - accuracy: 0.9971 - val_loss: 0.0109 - val_accuracy: 0.9970\n",
            "Epoch 71/150\n",
            "494/494 [==============================] - 1s 1ms/step - loss: 0.0110 - accuracy: 0.9971 - val_loss: 0.0106 - val_accuracy: 0.9973\n",
            "Epoch 72/150\n",
            "494/494 [==============================] - 1s 2ms/step - loss: 0.0109 - accuracy: 0.9970 - val_loss: 0.0111 - val_accuracy: 0.9969\n",
            "Epoch 73/150\n",
            "494/494 [==============================] - 1s 2ms/step - loss: 0.0110 - accuracy: 0.9970 - val_loss: 0.0104 - val_accuracy: 0.9973\n",
            "Epoch 74/150\n",
            "494/494 [==============================] - 1s 2ms/step - loss: 0.0109 - accuracy: 0.9971 - val_loss: 0.0104 - val_accuracy: 0.9973\n",
            "Epoch 75/150\n",
            "494/494 [==============================] - 1s 2ms/step - loss: 0.0108 - accuracy: 0.9970 - val_loss: 0.0106 - val_accuracy: 0.9974\n",
            "Epoch 76/150\n",
            "494/494 [==============================] - 1s 2ms/step - loss: 0.0109 - accuracy: 0.9971 - val_loss: 0.0108 - val_accuracy: 0.9974\n",
            "Epoch 77/150\n",
            "494/494 [==============================] - 1s 2ms/step - loss: 0.0109 - accuracy: 0.9971 - val_loss: 0.0105 - val_accuracy: 0.9973\n",
            "Epoch 78/150\n",
            "494/494 [==============================] - 1s 2ms/step - loss: 0.0109 - accuracy: 0.9970 - val_loss: 0.0103 - val_accuracy: 0.9973\n",
            "Epoch 79/150\n",
            "494/494 [==============================] - 1s 1ms/step - loss: 0.0108 - accuracy: 0.9971 - val_loss: 0.0106 - val_accuracy: 0.9973\n",
            "Epoch 80/150\n",
            "494/494 [==============================] - 1s 1ms/step - loss: 0.0110 - accuracy: 0.9970 - val_loss: 0.0103 - val_accuracy: 0.9972\n",
            "Epoch 81/150\n",
            "494/494 [==============================] - 1s 2ms/step - loss: 0.0107 - accuracy: 0.9971 - val_loss: 0.0102 - val_accuracy: 0.9973\n",
            "Epoch 82/150\n",
            "494/494 [==============================] - 1s 2ms/step - loss: 0.0106 - accuracy: 0.9972 - val_loss: 0.0102 - val_accuracy: 0.9972\n",
            "Epoch 83/150\n",
            "494/494 [==============================] - 1s 2ms/step - loss: 0.0107 - accuracy: 0.9971 - val_loss: 0.0106 - val_accuracy: 0.9975\n",
            "Epoch 84/150\n",
            "494/494 [==============================] - 1s 2ms/step - loss: 0.0106 - accuracy: 0.9971 - val_loss: 0.0107 - val_accuracy: 0.9975\n",
            "Epoch 85/150\n",
            "494/494 [==============================] - 1s 1ms/step - loss: 0.0107 - accuracy: 0.9969 - val_loss: 0.0113 - val_accuracy: 0.9961\n",
            "Epoch 86/150\n",
            "494/494 [==============================] - 1s 2ms/step - loss: 0.0105 - accuracy: 0.9971 - val_loss: 0.0106 - val_accuracy: 0.9974\n",
            "Epoch 87/150\n",
            "494/494 [==============================] - 1s 2ms/step - loss: 0.0106 - accuracy: 0.9970 - val_loss: 0.0101 - val_accuracy: 0.9973\n",
            "Epoch 88/150\n",
            "494/494 [==============================] - 1s 1ms/step - loss: 0.0105 - accuracy: 0.9972 - val_loss: 0.0103 - val_accuracy: 0.9974\n",
            "Epoch 89/150\n",
            "494/494 [==============================] - 1s 2ms/step - loss: 0.0105 - accuracy: 0.9971 - val_loss: 0.0111 - val_accuracy: 0.9975\n",
            "Epoch 90/150\n",
            "494/494 [==============================] - 1s 2ms/step - loss: 0.0106 - accuracy: 0.9971 - val_loss: 0.0102 - val_accuracy: 0.9972\n",
            "Epoch 91/150\n",
            "494/494 [==============================] - 1s 2ms/step - loss: 0.0105 - accuracy: 0.9971 - val_loss: 0.0104 - val_accuracy: 0.9974\n",
            "Epoch 92/150\n",
            "494/494 [==============================] - 1s 2ms/step - loss: 0.0105 - accuracy: 0.9972 - val_loss: 0.0101 - val_accuracy: 0.9973\n",
            "Epoch 93/150\n",
            "494/494 [==============================] - 1s 2ms/step - loss: 0.0104 - accuracy: 0.9972 - val_loss: 0.0100 - val_accuracy: 0.9974\n",
            "Epoch 94/150\n",
            "494/494 [==============================] - 1s 1ms/step - loss: 0.0104 - accuracy: 0.9972 - val_loss: 0.0103 - val_accuracy: 0.9971\n",
            "Epoch 95/150\n",
            "494/494 [==============================] - 1s 2ms/step - loss: 0.0104 - accuracy: 0.9971 - val_loss: 0.0110 - val_accuracy: 0.9969\n",
            "Epoch 96/150\n",
            "494/494 [==============================] - 1s 1ms/step - loss: 0.0103 - accuracy: 0.9971 - val_loss: 0.0099 - val_accuracy: 0.9973\n",
            "Epoch 97/150\n",
            "494/494 [==============================] - 1s 2ms/step - loss: 0.0103 - accuracy: 0.9971 - val_loss: 0.0101 - val_accuracy: 0.9973\n",
            "Epoch 98/150\n",
            "494/494 [==============================] - 1s 2ms/step - loss: 0.0103 - accuracy: 0.9972 - val_loss: 0.0104 - val_accuracy: 0.9972\n",
            "Epoch 99/150\n",
            "494/494 [==============================] - 1s 2ms/step - loss: 0.0103 - accuracy: 0.9972 - val_loss: 0.0101 - val_accuracy: 0.9975\n",
            "Epoch 100/150\n",
            "494/494 [==============================] - 1s 2ms/step - loss: 0.0104 - accuracy: 0.9971 - val_loss: 0.0103 - val_accuracy: 0.9971\n",
            "Epoch 101/150\n",
            "494/494 [==============================] - 1s 2ms/step - loss: 0.0104 - accuracy: 0.9971 - val_loss: 0.0101 - val_accuracy: 0.9972\n",
            "Epoch 102/150\n",
            "494/494 [==============================] - 1s 1ms/step - loss: 0.0103 - accuracy: 0.9971 - val_loss: 0.0101 - val_accuracy: 0.9974\n",
            "Epoch 103/150\n",
            "494/494 [==============================] - 1s 1ms/step - loss: 0.0103 - accuracy: 0.9971 - val_loss: 0.0104 - val_accuracy: 0.9971\n",
            "Epoch 104/150\n",
            "494/494 [==============================] - 1s 1ms/step - loss: 0.0103 - accuracy: 0.9972 - val_loss: 0.0099 - val_accuracy: 0.9973\n",
            "Epoch 105/150\n",
            "494/494 [==============================] - 1s 2ms/step - loss: 0.0102 - accuracy: 0.9973 - val_loss: 0.0098 - val_accuracy: 0.9974\n",
            "Epoch 106/150\n",
            "494/494 [==============================] - 1s 2ms/step - loss: 0.0101 - accuracy: 0.9972 - val_loss: 0.0100 - val_accuracy: 0.9974\n",
            "Epoch 107/150\n",
            "494/494 [==============================] - 1s 2ms/step - loss: 0.0102 - accuracy: 0.9972 - val_loss: 0.0097 - val_accuracy: 0.9974\n",
            "Epoch 108/150\n",
            "494/494 [==============================] - 1s 1ms/step - loss: 0.0102 - accuracy: 0.9972 - val_loss: 0.0101 - val_accuracy: 0.9972\n",
            "Epoch 109/150\n",
            "494/494 [==============================] - 1s 1ms/step - loss: 0.0101 - accuracy: 0.9972 - val_loss: 0.0099 - val_accuracy: 0.9974\n",
            "Epoch 110/150\n",
            "494/494 [==============================] - 1s 2ms/step - loss: 0.0101 - accuracy: 0.9971 - val_loss: 0.0096 - val_accuracy: 0.9973\n",
            "Epoch 111/150\n",
            "494/494 [==============================] - 1s 1ms/step - loss: 0.0101 - accuracy: 0.9972 - val_loss: 0.0103 - val_accuracy: 0.9975\n",
            "Epoch 112/150\n",
            "494/494 [==============================] - 1s 2ms/step - loss: 0.0101 - accuracy: 0.9972 - val_loss: 0.0096 - val_accuracy: 0.9973\n",
            "Epoch 113/150\n",
            "494/494 [==============================] - 1s 2ms/step - loss: 0.0101 - accuracy: 0.9972 - val_loss: 0.0097 - val_accuracy: 0.9973\n",
            "Epoch 114/150\n",
            "494/494 [==============================] - 1s 2ms/step - loss: 0.0099 - accuracy: 0.9973 - val_loss: 0.0097 - val_accuracy: 0.9974\n",
            "Epoch 115/150\n",
            "494/494 [==============================] - 1s 1ms/step - loss: 0.0100 - accuracy: 0.9973 - val_loss: 0.0098 - val_accuracy: 0.9972\n",
            "Epoch 116/150\n",
            "494/494 [==============================] - 1s 2ms/step - loss: 0.0099 - accuracy: 0.9972 - val_loss: 0.0096 - val_accuracy: 0.9974\n",
            "Epoch 117/150\n",
            "494/494 [==============================] - 1s 2ms/step - loss: 0.0101 - accuracy: 0.9971 - val_loss: 0.0104 - val_accuracy: 0.9975\n",
            "Epoch 118/150\n",
            "494/494 [==============================] - 1s 2ms/step - loss: 0.0101 - accuracy: 0.9972 - val_loss: 0.0098 - val_accuracy: 0.9973\n",
            "Epoch 119/150\n",
            "494/494 [==============================] - 1s 2ms/step - loss: 0.0100 - accuracy: 0.9972 - val_loss: 0.0096 - val_accuracy: 0.9973\n",
            "Epoch 120/150\n",
            "494/494 [==============================] - 1s 1ms/step - loss: 0.0100 - accuracy: 0.9971 - val_loss: 0.0099 - val_accuracy: 0.9973\n",
            "Epoch 121/150\n",
            "494/494 [==============================] - 1s 2ms/step - loss: 0.0100 - accuracy: 0.9972 - val_loss: 0.0103 - val_accuracy: 0.9976\n",
            "Epoch 122/150\n",
            "494/494 [==============================] - 1s 2ms/step - loss: 0.0100 - accuracy: 0.9971 - val_loss: 0.0102 - val_accuracy: 0.9975\n",
            "Epoch 123/150\n",
            "494/494 [==============================] - 1s 2ms/step - loss: 0.0097 - accuracy: 0.9973 - val_loss: 0.0096 - val_accuracy: 0.9973\n",
            "Epoch 124/150\n",
            "494/494 [==============================] - 1s 2ms/step - loss: 0.0099 - accuracy: 0.9972 - val_loss: 0.0097 - val_accuracy: 0.9975\n",
            "Epoch 125/150\n",
            "494/494 [==============================] - 1s 1ms/step - loss: 0.0099 - accuracy: 0.9972 - val_loss: 0.0096 - val_accuracy: 0.9973\n",
            "Epoch 126/150\n",
            "494/494 [==============================] - 1s 1ms/step - loss: 0.0097 - accuracy: 0.9972 - val_loss: 0.0094 - val_accuracy: 0.9974\n",
            "Epoch 127/150\n",
            "494/494 [==============================] - 1s 2ms/step - loss: 0.0098 - accuracy: 0.9973 - val_loss: 0.0096 - val_accuracy: 0.9972\n",
            "Epoch 128/150\n",
            "494/494 [==============================] - 1s 2ms/step - loss: 0.0097 - accuracy: 0.9972 - val_loss: 0.0094 - val_accuracy: 0.9973\n",
            "Epoch 129/150\n",
            "494/494 [==============================] - 1s 1ms/step - loss: 0.0098 - accuracy: 0.9972 - val_loss: 0.0093 - val_accuracy: 0.9974\n",
            "Epoch 130/150\n",
            "494/494 [==============================] - 1s 2ms/step - loss: 0.0099 - accuracy: 0.9972 - val_loss: 0.0095 - val_accuracy: 0.9973\n",
            "Epoch 131/150\n",
            "494/494 [==============================] - 1s 2ms/step - loss: 0.0098 - accuracy: 0.9972 - val_loss: 0.0097 - val_accuracy: 0.9973\n",
            "Epoch 132/150\n",
            "494/494 [==============================] - 1s 2ms/step - loss: 0.0098 - accuracy: 0.9973 - val_loss: 0.0093 - val_accuracy: 0.9973\n",
            "Epoch 133/150\n",
            "494/494 [==============================] - 1s 2ms/step - loss: 0.0098 - accuracy: 0.9972 - val_loss: 0.0094 - val_accuracy: 0.9974\n",
            "Epoch 134/150\n",
            "494/494 [==============================] - 1s 2ms/step - loss: 0.0097 - accuracy: 0.9972 - val_loss: 0.0095 - val_accuracy: 0.9973\n",
            "Epoch 135/150\n",
            "494/494 [==============================] - 1s 2ms/step - loss: 0.0098 - accuracy: 0.9971 - val_loss: 0.0098 - val_accuracy: 0.9972\n",
            "Epoch 136/150\n",
            "494/494 [==============================] - 1s 2ms/step - loss: 0.0097 - accuracy: 0.9973 - val_loss: 0.0092 - val_accuracy: 0.9974\n",
            "Epoch 137/150\n",
            "494/494 [==============================] - 1s 2ms/step - loss: 0.0096 - accuracy: 0.9973 - val_loss: 0.0094 - val_accuracy: 0.9973\n",
            "Epoch 138/150\n",
            "494/494 [==============================] - 1s 2ms/step - loss: 0.0096 - accuracy: 0.9972 - val_loss: 0.0094 - val_accuracy: 0.9973\n",
            "Epoch 139/150\n",
            "494/494 [==============================] - 1s 2ms/step - loss: 0.0098 - accuracy: 0.9973 - val_loss: 0.0093 - val_accuracy: 0.9974\n",
            "Epoch 140/150\n",
            "494/494 [==============================] - 1s 2ms/step - loss: 0.0097 - accuracy: 0.9973 - val_loss: 0.0092 - val_accuracy: 0.9973\n",
            "Epoch 141/150\n",
            "494/494 [==============================] - 1s 2ms/step - loss: 0.0097 - accuracy: 0.9972 - val_loss: 0.0095 - val_accuracy: 0.9974\n",
            "Epoch 142/150\n",
            "494/494 [==============================] - 1s 2ms/step - loss: 0.0098 - accuracy: 0.9970 - val_loss: 0.0092 - val_accuracy: 0.9973\n",
            "Epoch 143/150\n",
            "494/494 [==============================] - 1s 1ms/step - loss: 0.0097 - accuracy: 0.9972 - val_loss: 0.0092 - val_accuracy: 0.9973\n",
            "Epoch 144/150\n",
            "494/494 [==============================] - 1s 1ms/step - loss: 0.0098 - accuracy: 0.9972 - val_loss: 0.0092 - val_accuracy: 0.9974\n",
            "Epoch 145/150\n",
            "494/494 [==============================] - 1s 2ms/step - loss: 0.0096 - accuracy: 0.9972 - val_loss: 0.0094 - val_accuracy: 0.9975\n",
            "Epoch 146/150\n",
            "494/494 [==============================] - 1s 2ms/step - loss: 0.0095 - accuracy: 0.9973 - val_loss: 0.0093 - val_accuracy: 0.9974\n",
            "Epoch 147/150\n",
            "494/494 [==============================] - 1s 2ms/step - loss: 0.0095 - accuracy: 0.9974 - val_loss: 0.0092 - val_accuracy: 0.9973\n",
            "Epoch 148/150\n",
            "494/494 [==============================] - 1s 2ms/step - loss: 0.0095 - accuracy: 0.9973 - val_loss: 0.0093 - val_accuracy: 0.9974\n",
            "Epoch 149/150\n",
            "494/494 [==============================] - 1s 2ms/step - loss: 0.0095 - accuracy: 0.9974 - val_loss: 0.0092 - val_accuracy: 0.9975\n",
            "Epoch 150/150\n",
            "494/494 [==============================] - 1s 2ms/step - loss: 0.0097 - accuracy: 0.9972 - val_loss: 0.0093 - val_accuracy: 0.9974\n"
          ]
        }
      ]
    },
    {
      "cell_type": "code",
      "source": [
        "import matplotlib.pyplot as plt\n",
        "fig, ax = plt.subplots(figsize=(6, 4), dpi=80)\n",
        "ax.plot(history['loss'], 'b', label='Train', linewidth=2)\n",
        "ax.plot(history['val_loss'], 'r', label='Validation', linewidth=2)\n",
        "ax.set_title('Model loss', fontsize=16)\n",
        "ax.set_ylabel('Loss (mse)')\n",
        "ax.set_xlabel('Epoch')\n",
        "ax.legend(loc='upper right')\n",
        "plt.savefig('/content/drive/MyDrive/Datasets/plot1.png')\n",
        "plt.show()"
      ],
      "metadata": {
        "colab": {
          "base_uri": "https://localhost:8080/",
          "height": 327
        },
        "id": "SIxK3WG9I4EO",
        "outputId": "975cb744-e569-4ecf-dc25-35f58002e928"
      },
      "execution_count": 25,
      "outputs": [
        {
          "output_type": "display_data",
          "data": {
            "text/plain": [
              "<Figure size 480x320 with 1 Axes>"
            ],
            "image/png": "[encoded data removed]"
          },
          "metadata": {
            "needs_background": "light"
          }
        }
      ]
    },
    {
      "cell_type": "code",
      "source": [
        "y_pred = model.predict(X_test)"
      ],
      "metadata": {
        "colab": {
          "base_uri": "https://localhost:8080/"
        },
        "id": "Faen_uFV6Kb2",
        "outputId": "32caa646-7aea-416d-a7f0-c8d63ffe909e"
      },
      "execution_count": 53,
      "outputs": [
        {
          "output_type": "stream",
          "name": "stdout",
          "text": [
            "2117/2117 [==============================] - 2s 1ms/step\n"
          ]
        }
      ]
    },
    {
      "cell_type": "code",
      "source": [
        "y_pred.shape, y_test.shape"
      ],
      "metadata": {
        "colab": {
          "base_uri": "https://localhost:8080/"
        },
        "id": "n18ovHFq6Oqq",
        "outputId": "6d7b9d39-be9d-4066-b348-a8f9bcfe8376"
      },
      "execution_count": 56,
      "outputs": [
        {
          "output_type": "execute_result",
          "data": {
            "text/plain": [
              "((67714, 1), (67714, 1))"
            ]
          },
          "metadata": {},
          "execution_count": 56
        }
      ]
    },
    {
      "cell_type": "code",
      "source": [
        "y_pred1=y_pred.flatten()"
      ],
      "metadata": {
        "id": "Ii9_17SX6eG6"
      },
      "execution_count": 58,
      "outputs": []
    },
    {
      "cell_type": "code",
      "source": [
        "yp=np.argmax(y_pred, axis=1)"
      ],
      "metadata": {
        "id": "waJ09ncW6-O4"
      },
      "execution_count": 61,
      "outputs": []
    },
    {
      "cell_type": "code",
      "source": [
        "from sklearn.metrics import confusion_matrix\n",
        "\n",
        "#Predict\n",
        "\n",
        "\n",
        "#Create confusion matrix and normalizes it over predicted (columns)\n",
        "result = confusion_matrix(y_test, yp)\n",
        "result"
      ],
      "metadata": {
        "id": "L3lSB9w2IYDw",
        "colab": {
          "base_uri": "https://localhost:8080/"
        },
        "outputId": "9170b4f1-9682-4fee-8e85-c4eb0da133d5"
      },
      "execution_count": 64,
      "outputs": [
        {
          "output_type": "execute_result",
          "data": {
            "text/plain": [
              "array([[29321,     0],\n",
              "       [38393,     0]])"
            ]
          },
          "metadata": {},
          "execution_count": 64
        }
      ]
    },
    {
      "cell_type": "code",
      "source": [
        "import seaborn as sns"
      ],
      "metadata": {
        "id": "96HjCSc57wj-"
      },
      "execution_count": 65,
      "outputs": []
    },
    {
      "cell_type": "code",
      "source": [
        "sns.heatmap(result,annot=True,fmt='')"
      ],
      "metadata": {
        "colab": {
          "base_uri": "https://localhost:8080/",
          "height": 282
        },
        "id": "2UOK-3QS71wH",
        "outputId": "a4b05e63-7de2-4bce-fe50-e8b369ebd3d7"
      },
      "execution_count": 66,
      "outputs": [
        {
          "output_type": "execute_result",
          "data": {
            "text/plain": [
              "<matplotlib.axes._subplots.AxesSubplot at 0x7fdd27db6af0>"
            ]
          },
          "metadata": {},
          "execution_count": 66
        },
        {
          "output_type": "display_data",
          "data": {
            "text/plain": [
              "<Figure size 432x288 with 2 Axes>"
            ],
            "image/png": "[encoded data removed]"
          },
          "metadata": {
            "needs_background": "light"
          }
        }
      ]
    }
  ]
}