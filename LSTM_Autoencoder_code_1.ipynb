{
  "cells": [
    {
      "cell_type": "markdown",
      "metadata": {
        "id": "view-in-github",
        "colab_type": "text"
      },
      "source": [
        "<a href=\"https://colab.research.google.com/github/otokwala/Common-features/blob/main/LSTM_Autoencoder_code_1.ipynb\" target=\"_parent\"><img src=\"https://colab.research.google.com/assets/colab-badge.svg\" alt=\"Open In Colab\"/></a>"
      ]
    },
    {
      "cell_type": "code",
      "execution_count": 2,
      "metadata": {
        "id": "LSohP0bCCe2m"
      },
      "outputs": [],
      "source": [
        "# import libraries\n",
        "import os\n",
        "import pandas as pd\n",
        "import numpy as np\n",
        "from sklearn.preprocessing import MinMaxScaler, StandardScaler, scale\n",
        "from sklearn.model_selection import train_test_split\n",
        "import seaborn as sns\n",
        "sns.set(color_codes=True)\n",
        "import matplotlib.pyplot as plt\n",
        "from numpy.random import seed\n",
        "import tensorflow as tf\n",
        "tf.random.set_seed(10)\n",
        "import keras\n",
        "from keras.layers import Input, Dropout, Dense, LSTM, TimeDistributed, RepeatVector\n",
        "from keras.models import Model, load_model, Sequential\n",
        "from keras import regularizers\n",
        "import csv\n",
        "from google.colab import files"
      ]
    },
    {
      "cell_type": "code",
      "source": [
        "from google.colab import drive\n",
        "drive.mount('/content/drive')"
      ],
      "metadata": {
        "colab": {
          "base_uri": "https://localhost:8080/"
        },
        "id": "-GuzDPolb1VC",
        "outputId": "6c4cd587-04d7-4567-f5c8-298600fc7a13"
      },
      "execution_count": 3,
      "outputs": [
        {
          "output_type": "stream",
          "name": "stdout",
          "text": [
            "Mounted at /content/drive\n"
          ]
        }
      ]
    },
    {
      "cell_type": "code",
      "execution_count": 4,
      "metadata": {
        "id": "jR_L9JSRC5EQ"
      },
      "outputs": [],
      "source": [
        "data=pd.read_csv(r'/content/drive/MyDrive/Datasets/All_Autoencoder_Data.csv')"
      ]
    },
    {
      "cell_type": "code",
      "execution_count": 5,
      "metadata": {
        "id": "aeaSmD4e6Pfs"
      },
      "outputs": [],
      "source": [
        "Labels=data['Labels'].tolist()"
      ]
    },
    {
      "cell_type": "code",
      "execution_count": 6,
      "metadata": {
        "id": "U4UfotTrbpsJ"
      },
      "outputs": [],
      "source": [
        "data1 = data.drop('Labels', axis=1)"
      ]
    },
    {
      "cell_type": "code",
      "execution_count": 7,
      "metadata": {
        "colab": {
          "base_uri": "https://localhost:8080/"
        },
        "id": "xB6vtzVYPTf0",
        "outputId": "676d68e7-0764-4f39-e7da-43300dbd64e7"
      },
      "outputs": [
        {
          "output_type": "execute_result",
          "data": {
            "text/plain": [
              "(225711, 68)"
            ]
          },
          "metadata": {},
          "execution_count": 7
        }
      ],
      "source": [
        "data1.shape"
      ]
    },
    {
      "cell_type": "code",
      "execution_count": 8,
      "metadata": {
        "id": "QNU5SgCVkyDE"
      },
      "outputs": [],
      "source": [
        "def create_sequences(X, time_steps=5):\n",
        "    Xs = []\n",
        "    for i in range(0, len(X)-time_steps, 1):\n",
        "        Xs.append(X.iloc[i:(i+time_steps)].values)\n",
        "    \n",
        "    return np.array(Xs)"
      ]
    },
    {
      "cell_type": "code",
      "execution_count": 9,
      "metadata": {
        "colab": {
          "base_uri": "https://localhost:8080/"
        },
        "id": "OA13qoduKZzz",
        "outputId": "60ef2fa9-77c7-4c56-efdc-c6cf0b9ac7c1"
      },
      "outputs": [
        {
          "output_type": "execute_result",
          "data": {
            "text/plain": [
              "(225706, 5, 68)"
            ]
          },
          "metadata": {},
          "execution_count": 9
        }
      ],
      "source": [
        "X_train=create_sequences(data1)\n",
        "X_train.shape"
      ]
    },
    {
      "cell_type": "code",
      "execution_count": 10,
      "metadata": {
        "id": "oibtwveULxU6",
        "colab": {
          "base_uri": "https://localhost:8080/"
        },
        "outputId": "030ca5f0-39fe-4348-bdee-de048e5c329f"
      },
      "outputs": [
        {
          "output_type": "stream",
          "name": "stdout",
          "text": [
            "Model: \"model\"\n",
            "_________________________________________________________________\n",
            " Layer (type)                Output Shape              Param #   \n",
            "=================================================================\n",
            " input_1 (InputLayer)        [(None, 5, 68)]           0         \n",
            "                                                                 \n",
            " lstm (LSTM)                 (None, 5, 64)             34048     \n",
            "                                                                 \n",
            " lstm_1 (LSTM)               (None, 5, 32)             12416     \n",
            "                                                                 \n",
            " lstm_2 (LSTM)               (None, 5, 16)             3136      \n",
            "                                                                 \n",
            " lstm_3 (LSTM)               (None, 5)                 440       \n",
            "                                                                 \n",
            " repeat_vector (RepeatVector  (None, 5, 5)             0         \n",
            " )                                                               \n",
            "                                                                 \n",
            " lstm_4 (LSTM)               (None, 5, 16)             1408      \n",
            "                                                                 \n",
            " lstm_5 (LSTM)               (None, 5, 32)             6272      \n",
            "                                                                 \n",
            " lstm_6 (LSTM)               (None, 5, 64)             24832     \n",
            "                                                                 \n",
            " time_distributed (TimeDistr  (None, 5, 68)            4420      \n",
            " ibuted)                                                         \n",
            "                                                                 \n",
            "=================================================================\n",
            "Total params: 86,972\n",
            "Trainable params: 86,972\n",
            "Non-trainable params: 0\n",
            "_________________________________________________________________\n"
          ]
        }
      ],
      "source": [
        "# define the autoencoder network model\n",
        "inputs = Input(shape=(X_train.shape[1], X_train.shape[2]))\n",
        "eL0 = LSTM(64, activation='tanh', return_sequences=True,\n",
        "            recurrent_activation=\"sigmoid\", \n",
        "            kernel_initializer=\"glorot_uniform\",\n",
        "            recurrent_regularizer=regularizers.l2(0.001), \n",
        "            kernel_regularizer=regularizers.l2(0.001))(inputs)\n",
        "\n",
        "eL1 = LSTM(32, activation='tanh', return_sequences=True,\n",
        "            recurrent_activation=\"sigmoid\", \n",
        "            kernel_initializer=\"glorot_uniform\",\n",
        "            recurrent_regularizer=regularizers.l2(0.001), \n",
        "            kernel_regularizer=regularizers.l2(0.001))(eL0)\n",
        "\n",
        "eL2 = LSTM(16, activation='tanh', return_sequences=True,\n",
        "            recurrent_activation=\"sigmoid\",  \n",
        "            kernel_initializer=\"glorot_uniform\", \n",
        "            recurrent_regularizer=regularizers.l2(0.001), \n",
        "            kernel_regularizer=regularizers.l2(0.001))(eL1)\n",
        "\n",
        "eL3 = LSTM(5, activation='tanh', return_sequences=False)(eL2)\n",
        "#     eL3 = LSTM(16, activation='relu', return_sequences=False)(eL2)\n",
        "h = RepeatVector(X_train.shape[1])(eL3)\n",
        "\n",
        "dL2 = LSTM(16, activation='tanh', return_sequences=True)(h)\n",
        "\n",
        "dL3 = LSTM(32, activation='tanh', return_sequences=True)(dL2)\n",
        "\n",
        "dL4 = LSTM(64, activation='tanh', return_sequences=True)(dL3)\n",
        "\n",
        "output = TimeDistributed(Dense(X_train.shape[2]))(dL4)    \n",
        "#output = Dense(X_train.shape[2])(dL4)  \n",
        "model = Model(inputs=inputs, outputs=output)\n",
        "#return model\n",
        "model.summary()"
      ]
    },
    {
      "cell_type": "code",
      "execution_count": 14,
      "metadata": {
        "colab": {
          "base_uri": "https://localhost:8080/",
          "height": 1000
        },
        "id": "AG0MrAyuL3-P",
        "outputId": "a416594b-5474-403f-f858-a6cce82aaca8"
      },
      "outputs": [
        {
          "output_type": "stream",
          "name": "stdout",
          "text": [
            "Epoch 1/400\n",
            "632/632 [==============================] - 25s 21ms/step - loss: 0.0616 - accuracy: 0.5130 - val_loss: 0.0869 - val_accuracy: 0.4697\n",
            "Epoch 2/400\n",
            "632/632 [==============================] - 10s 16ms/step - loss: 0.0607 - accuracy: 0.5166 - val_loss: 0.0859 - val_accuracy: 0.4676\n",
            "Epoch 3/400\n",
            "632/632 [==============================] - 9s 14ms/step - loss: 0.0613 - accuracy: 0.5139 - val_loss: 0.0911 - val_accuracy: 0.4675\n",
            "Epoch 4/400\n",
            "632/632 [==============================] - 10s 15ms/step - loss: 0.0609 - accuracy: 0.5162 - val_loss: 0.0878 - val_accuracy: 0.4614\n",
            "Epoch 5/400\n",
            "632/632 [==============================] - 10s 17ms/step - loss: 0.0607 - accuracy: 0.5161 - val_loss: 0.0886 - val_accuracy: 0.4706\n",
            "Epoch 6/400\n",
            "632/632 [==============================] - 9s 14ms/step - loss: 0.0612 - accuracy: 0.5163 - val_loss: 0.0868 - val_accuracy: 0.4704\n",
            "Epoch 7/400\n",
            "632/632 [==============================] - 10s 15ms/step - loss: 0.0607 - accuracy: 0.5193 - val_loss: 0.0866 - val_accuracy: 0.4789\n",
            "Epoch 8/400\n",
            "632/632 [==============================] - 10s 15ms/step - loss: 0.0605 - accuracy: 0.5264 - val_loss: 0.0860 - val_accuracy: 0.4914\n",
            "Epoch 9/400\n",
            "632/632 [==============================] - 10s 16ms/step - loss: 0.0605 - accuracy: 0.5295 - val_loss: 0.0856 - val_accuracy: 0.4882\n",
            "Epoch 10/400\n",
            "632/632 [==============================] - 9s 14ms/step - loss: 0.0609 - accuracy: 0.5291 - val_loss: 0.0854 - val_accuracy: 0.4859\n",
            "Epoch 11/400\n",
            "632/632 [==============================] - 10s 16ms/step - loss: 0.0606 - accuracy: 0.5315 - val_loss: 0.0854 - val_accuracy: 0.4893\n",
            "Epoch 12/400\n",
            "632/632 [==============================] - 11s 18ms/step - loss: 0.0603 - accuracy: 0.5323 - val_loss: 0.0883 - val_accuracy: 0.4730\n",
            "Epoch 13/400\n",
            "632/632 [==============================] - 11s 17ms/step - loss: 0.0604 - accuracy: 0.5324 - val_loss: 0.0861 - val_accuracy: 0.4942\n",
            "Epoch 14/400\n",
            "632/632 [==============================] - 10s 16ms/step - loss: 0.0600 - accuracy: 0.5341 - val_loss: 0.0862 - val_accuracy: 0.4907\n",
            "Epoch 15/400\n",
            "632/632 [==============================] - 9s 15ms/step - loss: 0.0605 - accuracy: 0.5326 - val_loss: 0.0862 - val_accuracy: 0.4973\n",
            "Epoch 16/400\n",
            "632/632 [==============================] - 10s 15ms/step - loss: 0.0599 - accuracy: 0.5352 - val_loss: 0.0866 - val_accuracy: 0.4878\n",
            "Epoch 17/400\n",
            "632/632 [==============================] - 10s 15ms/step - loss: 0.0604 - accuracy: 0.5328 - val_loss: 0.0864 - val_accuracy: 0.4951\n",
            "Epoch 18/400\n",
            "632/632 [==============================] - 9s 14ms/step - loss: 0.0603 - accuracy: 0.5336 - val_loss: 0.0853 - val_accuracy: 0.4969\n",
            "Epoch 19/400\n",
            "632/632 [==============================] - 10s 15ms/step - loss: 0.0603 - accuracy: 0.5338 - val_loss: 0.0883 - val_accuracy: 0.4654\n"
          ]
        },
        {
          "output_type": "display_data",
          "data": {
            "text/plain": [
              "<Figure size 480x320 with 1 Axes>"
            ],
            "image/png": "[encoded data removed]"
          },
          "metadata": {}
        }
      ],
      "source": [
        "# fit the model to the data\n",
        "callback = tf.keras.callbacks.EarlyStopping(monitor='loss', patience=3)\n",
        "nb_epochs = 400\n",
        "batch_size = 250\n",
        "opt = keras.optimizers.Adam(learning_rate=0.001)\n",
        "model.compile(optimizer=opt, loss='log_cosh', metrics=['accuracy'])\n",
        "\n",
        "history = model.fit(X_train, X_train, \n",
        "                    epochs=nb_epochs, \n",
        "                    batch_size=batch_size,\n",
        "                    validation_split=0.3, \n",
        "                    callbacks=[callback]\n",
        "                    ).history\n",
        "\n",
        "\n",
        "\n",
        "# plot the training losses\n",
        "fig, ax = plt.subplots(figsize=(6, 4), dpi=80)\n",
        "ax.plot(history['loss'], 'b', label='Train', linewidth=2)\n",
        "ax.plot(history['val_loss'], 'r', label='Validation', linewidth=2)\n",
        "ax.set_title('Model loss', fontsize=16)\n",
        "ax.set_ylabel('Loss (mse)')\n",
        "ax.set_xlabel('Epoch')\n",
        "ax.legend(loc='upper right')\n",
        "#plt.savefig('/content/drive/MyDrive/Colab Notebooks/PFP/Figures/GRU_AE_50K.pdf')\n",
        "plt.show()"
      ]
    },
    {
      "cell_type": "code",
      "source": [],
      "metadata": {
        "id": "JI61GJkKPzTE"
      },
      "execution_count": 11,
      "outputs": []
    },
    {
      "cell_type": "code",
      "execution_count": 15,
      "metadata": {
        "scrolled": true,
        "colab": {
          "base_uri": "https://localhost:8080/"
        },
        "id": "utNp9ERhbpsQ",
        "outputId": "2590adfe-bedd-4dfd-9ec6-7b16dc50de32"
      },
      "outputs": [
        {
          "output_type": "stream",
          "name": "stdout",
          "text": [
            "7054/7054 [==============================] - 25s 3ms/step\n"
          ]
        }
      ],
      "source": [
        "encode = Model(inputs=inputs, outputs=model.layers[5].output)\n",
        "output_encoder = encode.predict(X_train[:])"
      ]
    },
    {
      "cell_type": "code",
      "source": [
        "len(output_encoder)"
      ],
      "metadata": {
        "colab": {
          "base_uri": "https://localhost:8080/"
        },
        "id": "bT2bLXvjq6T3",
        "outputId": "e1a121a8-081e-4edc-8e27-d7846d5b35ff"
      },
      "execution_count": 16,
      "outputs": [
        {
          "output_type": "execute_result",
          "data": {
            "text/plain": [
              "225706"
            ]
          },
          "metadata": {},
          "execution_count": 16
        }
      ]
    },
    {
      "cell_type": "code",
      "source": [
        "#output_encoder[1][1].tolist()"
      ],
      "metadata": {
        "id": "Nmj5M8Q1G1dK"
      },
      "execution_count": null,
      "outputs": []
    },
    {
      "cell_type": "code",
      "source": [
        "outputs =[]\n",
        "for i in output_encoder:\n",
        "    arr = i[4].tolist()\n",
        "    outputs.append(arr)\n"
      ],
      "metadata": {
        "id": "fJ03CdqXCw8s"
      },
      "execution_count": 17,
      "outputs": []
    },
    {
      "cell_type": "code",
      "source": [
        "len(outputs)"
      ],
      "metadata": {
        "colab": {
          "base_uri": "https://localhost:8080/"
        },
        "id": "kZ_WsRFQGH5U",
        "outputId": "c092b92d-d680-4aa5-aa23-517324a33f1b"
      },
      "execution_count": 18,
      "outputs": [
        {
          "output_type": "execute_result",
          "data": {
            "text/plain": [
              "225706"
            ]
          },
          "metadata": {},
          "execution_count": 18
        }
      ]
    },
    {
      "cell_type": "code",
      "source": [
        "from google.colab import files\n",
        "df = pd.DataFrame(outputs)"
      ],
      "metadata": {
        "id": "4XKU1o-loXtM"
      },
      "execution_count": 19,
      "outputs": []
    },
    {
      "cell_type": "code",
      "source": [
        "del Labels[-5:]"
      ],
      "metadata": {
        "id": "lS9PidrYga65"
      },
      "execution_count": 22,
      "outputs": []
    },
    {
      "cell_type": "code",
      "source": [
        "len(Labels)"
      ],
      "metadata": {
        "colab": {
          "base_uri": "https://localhost:8080/"
        },
        "id": "SntOd-9VixSb",
        "outputId": "87d90e91-4f94-4a1f-aade-8fe81ebf36c8"
      },
      "execution_count": 23,
      "outputs": [
        {
          "output_type": "execute_result",
          "data": {
            "text/plain": [
              "225706"
            ]
          },
          "metadata": {},
          "execution_count": 23
        }
      ]
    },
    {
      "cell_type": "code",
      "source": [
        "#append list to encoded data\n",
        "df['Labels']=Labels"
      ],
      "metadata": {
        "id": "eB2RIg5Ni4sD"
      },
      "execution_count": 26,
      "outputs": []
    },
    {
      "cell_type": "code",
      "source": [
        "df.shape"
      ],
      "metadata": {
        "colab": {
          "base_uri": "https://localhost:8080/"
        },
        "id": "TOKChbjemdhE",
        "outputId": "dd1462cc-d62c-4427-fe86-4ce5633d640b"
      },
      "execution_count": 29,
      "outputs": [
        {
          "output_type": "execute_result",
          "data": {
            "text/plain": [
              "(225706, 6)"
            ]
          },
          "metadata": {},
          "execution_count": 29
        }
      ]
    },
    {
      "cell_type": "code",
      "source": [
        "encoded=df"
      ],
      "metadata": {
        "id": "ovoMa6cZjggl"
      },
      "execution_count": 31,
      "outputs": []
    },
    {
      "cell_type": "code",
      "source": [
        "encoded.columns=['V1','V2','V3','V4','V5','Labels']"
      ],
      "metadata": {
        "id": "qFZiTc8MoN7c"
      },
      "execution_count": 32,
      "outputs": []
    },
    {
      "cell_type": "code",
      "source": [
        "encoded['Labels'].value_counts()"
      ],
      "metadata": {
        "colab": {
          "base_uri": "https://localhost:8080/"
        },
        "id": "MetL4ON0pKgr",
        "outputId": "b04aca3f-518f-4984-c253-f87387c6ca36"
      },
      "execution_count": 36,
      "outputs": [
        {
          "output_type": "execute_result",
          "data": {
            "text/plain": [
              "1    128025\n",
              "0     97681\n",
              "Name: Labels, dtype: int64"
            ]
          },
          "metadata": {},
          "execution_count": 36
        }
      ]
    },
    {
      "cell_type": "code",
      "source": [
        "# save the DataFrame to a CSV file\n",
        "df.to_csv('df.csv', index=False, header=False)\n",
        "files.download('df.csv')"
      ],
      "metadata": {
        "colab": {
          "base_uri": "https://localhost:8080/",
          "height": 17
        },
        "id": "H5Wk2iR9gMeL",
        "outputId": "60c4ecda-2792-4219-f142-01dfb3caf642"
      },
      "execution_count": 30,
      "outputs": [
        {
          "output_type": "display_data",
          "data": {
            "text/plain": [
              "<IPython.core.display.Javascript object>"
            ],
            "application/javascript": [
              "\n",
              "    async function download(id, filename, size) {\n",
              "      if (!google.colab.kernel.accessAllowed) {\n",
              "        return;\n",
              "      }\n",
              "      const div = document.createElement('div');\n",
              "      const label = document.createElement('label');\n",
              "      label.textContent = `Downloading \"${filename}\": `;\n",
              "      div.appendChild(label);\n",
              "      const progress = document.createElement('progress');\n",
              "      progress.max = size;\n",
              "      div.appendChild(progress);\n",
              "      document.body.appendChild(div);\n",
              "\n",
              "      const buffers = [];\n",
              "      let downloaded = 0;\n",
              "\n",
              "      const channel = await google.colab.kernel.comms.open(id);\n",
              "      // Send a message to notify the kernel that we're ready.\n",
              "      channel.send({})\n",
              "\n",
              "      for await (const message of channel.messages) {\n",
              "        // Send a message to notify the kernel that we're ready.\n",
              "        channel.send({})\n",
              "        if (message.buffers) {\n",
              "          for (const buffer of message.buffers) {\n",
              "            buffers.push(buffer);\n",
              "            downloaded += buffer.byteLength;\n",
              "            progress.value = downloaded;\n",
              "          }\n",
              "        }\n",
              "      }\n",
              "      const blob = new Blob(buffers, {type: 'application/binary'});\n",
              "      const a = document.createElement('a');\n",
              "      a.href = window.URL.createObjectURL(blob);\n",
              "      a.download = filename;\n",
              "      div.appendChild(a);\n",
              "      a.click();\n",
              "      div.remove();\n",
              "    }\n",
              "  "
            ]
          },
          "metadata": {}
        },
        {
          "output_type": "display_data",
          "data": {
            "text/plain": [
              "<IPython.core.display.Javascript object>"
            ],
            "application/javascript": [
              "download(\"download_dd5a14ae-af92-40c6-95f9-b8411b213833\", \"df.csv\", 23413348)"
            ]
          },
          "metadata": {}
        }
      ]
    }
  ],
  "metadata": {
    "accelerator": "GPU",
    "colab": {
      "machine_shape": "hm",
      "provenance": [],
      "include_colab_link": true
    },
    "gpuClass": "standard",
    "kernelspec": {
      "display_name": "Python 3",
      "language": "python",
      "name": "python3"
    },
    "language_info": {
      "codemirror_mode": {
        "name": "ipython",
        "version": 3
      },
      "file_extension": ".py",
      "mimetype": "text/x-python",
      "name": "python",
      "nbconvert_exporter": "python",
      "pygments_lexer": "ipython3",
      "version": "3.8.8"
    }
  },
  "nbformat": 4,
  "nbformat_minor": 0
}