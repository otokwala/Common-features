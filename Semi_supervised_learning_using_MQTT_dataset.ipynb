{
  "cells": [
    {
      "cell_type": "markdown",
      "metadata": {
        "id": "view-in-github",
        "colab_type": "text"
      },
      "source": [
        "<a href=\"https://colab.research.google.com/github/otokwala/Common-features/blob/main/Semi_supervised_learning_using_MQTT_dataset.ipynb\" target=\"_parent\"><img src=\"https://colab.research.google.com/assets/colab-badge.svg\" alt=\"Open In Colab\"/></a>"
      ]
    },
    {
      "cell_type": "code",
      "execution_count": 1,
      "id": "231ba8d8",
      "metadata": {
        "id": "231ba8d8"
      },
      "outputs": [],
      "source": [
        "# import libraries\n",
        "import os\n",
        "import pandas as pd\n",
        "import numpy as np\n",
        "from sklearn.preprocessing import MinMaxScaler, StandardScaler, scale\n",
        "from sklearn.metrics import confusion_matrix, f1_score, recall_score, precision_score, ConfusionMatrixDisplay\n",
        "from sklearn.model_selection import train_test_split\n",
        "import seaborn as sns\n",
        "sns.set(color_codes=True)\n",
        "import matplotlib.pyplot as plt\n",
        "from numpy.random import seed\n",
        "import tensorflow as tf\n",
        "tf.random.set_seed(10)\n",
        "from imblearn.over_sampling import SMOTE\n",
        "import keras\n",
        "from keras.layers import Input, Dropout, Dense, LSTM, TimeDistributed, RepeatVector\n",
        "from keras import regularizers\n",
        "from keras.wrappers.scikit_learn import KerasClassifier\n",
        "from sklearn.model_selection import GridSearchCV\n",
        "import csv\n",
        "import h5py\n",
        "from tensorflow import keras\n",
        "import time\n",
        "from tensorflow.keras.models import Sequential, Model, load_model\n",
        "from tensorflow.keras.layers import Dense\n",
        "from tensorflow.keras.losses import SparseCategoricalCrossentropy\n",
        "from sklearn.metrics import accuracy_score\n",
        "from sys import getsizeof\n",
        "from sklearn.metrics import classification_report\n",
        "from sklearn.utils import shuffle"
      ]
    },
    {
      "cell_type": "code",
      "source": [
        "#!pip show pandas"
      ],
      "metadata": {
        "colab": {
          "base_uri": "https://localhost:8080/"
        },
        "id": "_suSQ_HxaUjZ",
        "outputId": "daa730a8-d456-4c45-e133-c4541246ce61"
      },
      "id": "_suSQ_HxaUjZ",
      "execution_count": 2,
      "outputs": [
        {
          "output_type": "stream",
          "name": "stdout",
          "text": [
            "Name: pandas\n",
            "Version: 1.5.3\n",
            "Summary: Powerful data structures for data analysis, time series, and statistics\n",
            "Home-page: https://pandas.pydata.org\n",
            "Author: The Pandas Development Team\n",
            "Author-email: pandas-dev@python.org\n",
            "License: BSD-3-Clause\n",
            "Location: /usr/local/lib/python3.10/dist-packages\n",
            "Requires: numpy, python-dateutil, pytz\n",
            "Required-by: altair, arviz, bokeh, cmdstanpy, cufflinks, datascience, db-dtypes, dopamine-rl, fastai, geopandas, google-colab, gspread-dataframe, holoviews, mizani, mlxtend, pandas-datareader, pandas-gbq, panel, plotnine, prophet, pymc, seaborn, sklearn-pandas, statsmodels, vega-datasets, xarray, yfinance\n"
          ]
        }
      ]
    },
    {
      "cell_type": "code",
      "source": [
        "pip install tensorflow-model-optimization"
      ],
      "metadata": {
        "id": "HriymsYHEn--",
        "colab": {
          "base_uri": "https://localhost:8080/"
        },
        "outputId": "24910bfb-9cbb-4786-a5d2-a93ac08fc807"
      },
      "id": "HriymsYHEn--",
      "execution_count": 3,
      "outputs": [
        {
          "output_type": "stream",
          "name": "stdout",
          "text": [
            "Requirement already satisfied: tensorflow-model-optimization in /usr/local/lib/python3.10/dist-packages (0.7.5)\n",
            "Requirement already satisfied: absl-py~=1.2 in /usr/local/lib/python3.10/dist-packages (from tensorflow-model-optimization) (1.4.0)\n",
            "Requirement already satisfied: dm-tree~=0.1.1 in /usr/local/lib/python3.10/dist-packages (from tensorflow-model-optimization) (0.1.8)\n",
            "Requirement already satisfied: numpy~=1.23 in /usr/local/lib/python3.10/dist-packages (from tensorflow-model-optimization) (1.23.5)\n",
            "Requirement already satisfied: six~=1.14 in /usr/local/lib/python3.10/dist-packages (from tensorflow-model-optimization) (1.16.0)\n"
          ]
        }
      ]
    },
    {
      "cell_type": "code",
      "source": [
        "import tensorflow_model_optimization as tfmot"
      ],
      "metadata": {
        "id": "7qerPstGErbC"
      },
      "id": "7qerPstGErbC",
      "execution_count": 4,
      "outputs": []
    },
    {
      "cell_type": "code",
      "execution_count": 5,
      "id": "f442a554",
      "metadata": {
        "id": "f442a554"
      },
      "outputs": [],
      "source": [
        "def get_file_size(file_path):\n",
        "    size = os.path.getsize(file_path)\n",
        "    return size"
      ]
    },
    {
      "cell_type": "code",
      "execution_count": 6,
      "id": "7f1518dc",
      "metadata": {
        "id": "7f1518dc"
      },
      "outputs": [],
      "source": [
        "def convert_bytes(size, unit=None):\n",
        "    if unit == \"KB\":\n",
        "        return print('File size: ' + str(round(size / 1024, 3)) + ' Kilobytes')\n",
        "    elif unit == \"MB\":\n",
        "        return print('File size: ' + str(round(size / (1024 * 1024), 3)) + ' Megabytes')\n",
        "    else:\n",
        "        return print('File size: ' + str(size) + ' bytes')"
      ]
    },
    {
      "cell_type": "code",
      "source": [
        "from google.colab import files"
      ],
      "metadata": {
        "id": "1Cu8_RmlE_R0"
      },
      "id": "1Cu8_RmlE_R0",
      "execution_count": 7,
      "outputs": []
    },
    {
      "cell_type": "code",
      "source": [
        "from google.colab import drive"
      ],
      "metadata": {
        "id": "usouqt_aFLG4"
      },
      "id": "usouqt_aFLG4",
      "execution_count": 8,
      "outputs": []
    },
    {
      "cell_type": "code",
      "source": [
        "drive.mount('/content/drive')"
      ],
      "metadata": {
        "colab": {
          "base_uri": "https://localhost:8080/"
        },
        "id": "kmhwgnlCFK3F",
        "outputId": "8f1b1c3d-be87-43ce-a56a-8566c5145d29"
      },
      "id": "kmhwgnlCFK3F",
      "execution_count": 9,
      "outputs": [
        {
          "output_type": "stream",
          "name": "stdout",
          "text": [
            "Drive already mounted at /content/drive; to attempt to forcibly remount, call drive.mount(\"/content/drive\", force_remount=True).\n"
          ]
        }
      ]
    },
    {
      "cell_type": "code",
      "execution_count": 10,
      "id": "cd1e4130",
      "metadata": {
        "id": "cd1e4130"
      },
      "outputs": [],
      "source": [
        "data= pd.read_csv(r'/content/drive/MyDrive/Datasets/mqtt_data.csv')"
      ]
    },
    {
      "cell_type": "code",
      "execution_count": 11,
      "id": "bc114a93",
      "metadata": {
        "id": "bc114a93"
      },
      "outputs": [],
      "source": [
        "# strip whitespace before and after column names\n",
        "data.columns = data.columns.str.strip()"
      ]
    },
    {
      "cell_type": "code",
      "execution_count": 12,
      "id": "39c8761c",
      "metadata": {
        "colab": {
          "base_uri": "https://localhost:8080/"
        },
        "id": "39c8761c",
        "outputId": "4b79115c-2991-44af-f959-e9fd3ab88c75"
      },
      "outputs": [
        {
          "output_type": "execute_result",
          "data": {
            "text/plain": [
              "(225711, 69)"
            ]
          },
          "metadata": {},
          "execution_count": 12
        }
      ],
      "source": [
        "data.shape"
      ]
    },
    {
      "cell_type": "code",
      "execution_count": 13,
      "id": "9bacbb65",
      "metadata": {
        "colab": {
          "base_uri": "https://localhost:8080/"
        },
        "id": "9bacbb65",
        "outputId": "904ad7c0-f7c8-4ccc-9f37-6ca5556e48b7"
      },
      "outputs": [
        {
          "output_type": "execute_result",
          "data": {
            "text/plain": [
              "1    128025\n",
              "0     97686\n",
              "Name: Labels, dtype: int64"
            ]
          },
          "metadata": {},
          "execution_count": 13
        }
      ],
      "source": [
        "data['Labels'].value_counts()"
      ]
    },
    {
      "cell_type": "code",
      "execution_count": 14,
      "id": "de7441fe",
      "metadata": {
        "id": "de7441fe"
      },
      "outputs": [],
      "source": [
        "Labels=data['Labels'].tolist()"
      ]
    },
    {
      "cell_type": "code",
      "execution_count": 15,
      "id": "92f4d888",
      "metadata": {
        "id": "92f4d888"
      },
      "outputs": [],
      "source": [
        "data1 = data.drop('Labels', axis=1)"
      ]
    },
    {
      "cell_type": "code",
      "execution_count": 16,
      "id": "9929cc77",
      "metadata": {
        "id": "9929cc77"
      },
      "outputs": [],
      "source": [
        "# Find and replace NaNs with mean value\n",
        "data1 = data1.fillna(data1.mean())\n",
        "\n",
        " # Find and replace infinities with finite values\n",
        "data1.replace([np.inf, -np.inf], np.nan, inplace=True)\n",
        "data1 = data1.fillna(data1.max())"
      ]
    },
    {
      "cell_type": "code",
      "execution_count": 17,
      "id": "31d0b281",
      "metadata": {
        "id": "31d0b281"
      },
      "outputs": [],
      "source": [
        "data1=(data1-data1.min())/(data1.max()-data1.min())"
      ]
    },
    {
      "cell_type": "code",
      "execution_count": 18,
      "id": "4fcc724b",
      "metadata": {
        "collapsed": true,
        "id": "4fcc724b",
        "colab": {
          "base_uri": "https://localhost:8080/",
          "height": 406
        },
        "outputId": "133315a6-1250-4338-ff10-1a14edeaaa98"
      },
      "outputs": [
        {
          "output_type": "execute_result",
          "data": {
            "text/plain": [
              "Empty DataFrame\n",
              "Columns: []\n",
              "Index: [0, 1, 2, 3, 4, 5, 6, 7, 8, 9, 10, 11, 12, 13, 14, 15, 16, 17, 18, 19, 20, 21, 22, 23, 24, 25, 26, 27, 28, 29, 30, 31, 32, 33, 34, 35, 36, 37, 38, 39, 40, 41, 42, 43, 44, 45, 46, 47, 48, 49, 50, 51, 52, 53, 54, 55, 56, 57, 58, 59, 60, 61, 62, 63, 64, 65, 66, 67, 68, 69, 70, 71, 72, 73, 74, 75, 76, 77, 78, 79, 80, 81, 82, 83, 84, 85, 86, 87, 88, 89, 90, 91, 92, 93, 94, 95, 96, 97, 98, 99, ...]\n",
              "\n",
              "[225711 rows x 0 columns]"
            ],
            "text/html": [
              "\n",
              "\n",
              "  <div id=\"df-10122040-0358-4dcb-91ad-61496b366bbc\">\n",
              "    <div class=\"colab-df-container\">\n",
              "      <div>\n",
              "<style scoped>\n",
              "    .dataframe tbody tr th:only-of-type {\n",
              "        vertical-align: middle;\n",
              "    }\n",
              "\n",
              "    .dataframe tbody tr th {\n",
              "        vertical-align: top;\n",
              "    }\n",
              "\n",
              "    .dataframe thead th {\n",
              "        text-align: right;\n",
              "    }\n",
              "</style>\n",
              "<table border=\"1\" class=\"dataframe\">\n",
              "  <thead>\n",
              "    <tr style=\"text-align: right;\">\n",
              "      <th></th>\n",
              "    </tr>\n",
              "  </thead>\n",
              "  <tbody>\n",
              "    <tr>\n",
              "      <th>0</th>\n",
              "    </tr>\n",
              "    <tr>\n",
              "      <th>1</th>\n",
              "    </tr>\n",
              "    <tr>\n",
              "      <th>2</th>\n",
              "    </tr>\n",
              "    <tr>\n",
              "      <th>3</th>\n",
              "    </tr>\n",
              "    <tr>\n",
              "      <th>4</th>\n",
              "    </tr>\n",
              "    <tr>\n",
              "      <th>...</th>\n",
              "    </tr>\n",
              "    <tr>\n",
              "      <th>225706</th>\n",
              "    </tr>\n",
              "    <tr>\n",
              "      <th>225707</th>\n",
              "    </tr>\n",
              "    <tr>\n",
              "      <th>225708</th>\n",
              "    </tr>\n",
              "    <tr>\n",
              "      <th>225709</th>\n",
              "    </tr>\n",
              "    <tr>\n",
              "      <th>225710</th>\n",
              "    </tr>\n",
              "  </tbody>\n",
              "</table>\n",
              "<p>225711 rows × 0 columns</p>\n",
              "</div>\n",
              "      <button class=\"colab-df-convert\" onclick=\"convertToInteractive('df-10122040-0358-4dcb-91ad-61496b366bbc')\"\n",
              "              title=\"Convert this dataframe to an interactive table.\"\n",
              "              style=\"display:none;\">\n",
              "\n",
              "  <svg xmlns=\"http://www.w3.org/2000/svg\" height=\"24px\"viewBox=\"0 0 24 24\"\n",
              "       width=\"24px\">\n",
              "    <path d=\"M0 0h24v24H0V0z\" fill=\"none\"/>\n",
              "    <path d=\"M18.56 5.44l.94 2.06.94-2.06 2.06-.94-2.06-.94-.94-2.06-.94 2.06-2.06.94zm-11 1L8.5 8.5l.94-2.06 2.06-.94-2.06-.94L8.5 2.5l-.94 2.06-2.06.94zm10 10l.94 2.06.94-2.06 2.06-.94-2.06-.94-.94-2.06-.94 2.06-2.06.94z\"/><path d=\"M17.41 7.96l-1.37-1.37c-.4-.4-.92-.59-1.43-.59-.52 0-1.04.2-1.43.59L10.3 9.45l-7.72 7.72c-.78.78-.78 2.05 0 2.83L4 21.41c.39.39.9.59 1.41.59.51 0 1.02-.2 1.41-.59l7.78-7.78 2.81-2.81c.8-.78.8-2.07 0-2.86zM5.41 20L4 18.59l7.72-7.72 1.47 1.35L5.41 20z\"/>\n",
              "  </svg>\n",
              "      </button>\n",
              "\n",
              "\n",
              "\n",
              "    <div id=\"df-d1eefea9-bd56-4c12-b50a-24ee13934c9d\">\n",
              "      <button class=\"colab-df-quickchart\" onclick=\"quickchart('df-d1eefea9-bd56-4c12-b50a-24ee13934c9d')\"\n",
              "              title=\"Suggest charts.\"\n",
              "              style=\"display:none;\">\n",
              "\n",
              "<svg xmlns=\"http://www.w3.org/2000/svg\" height=\"24px\"viewBox=\"0 0 24 24\"\n",
              "     width=\"24px\">\n",
              "    <g>\n",
              "        <path d=\"M19 3H5c-1.1 0-2 .9-2 2v14c0 1.1.9 2 2 2h14c1.1 0 2-.9 2-2V5c0-1.1-.9-2-2-2zM9 17H7v-7h2v7zm4 0h-2V7h2v10zm4 0h-2v-4h2v4z\"/>\n",
              "    </g>\n",
              "</svg>\n",
              "      </button>\n",
              "    </div>\n",
              "\n",
              "<style>\n",
              "  .colab-df-quickchart {\n",
              "    background-color: #E8F0FE;\n",
              "    border: none;\n",
              "    border-radius: 50%;\n",
              "    cursor: pointer;\n",
              "    display: none;\n",
              "    fill: #1967D2;\n",
              "    height: 32px;\n",
              "    padding: 0 0 0 0;\n",
              "    width: 32px;\n",
              "  }\n",
              "\n",
              "  .colab-df-quickchart:hover {\n",
              "    background-color: #E2EBFA;\n",
              "    box-shadow: 0px 1px 2px rgba(60, 64, 67, 0.3), 0px 1px 3px 1px rgba(60, 64, 67, 0.15);\n",
              "    fill: #174EA6;\n",
              "  }\n",
              "\n",
              "  [theme=dark] .colab-df-quickchart {\n",
              "    background-color: #3B4455;\n",
              "    fill: #D2E3FC;\n",
              "  }\n",
              "\n",
              "  [theme=dark] .colab-df-quickchart:hover {\n",
              "    background-color: #434B5C;\n",
              "    box-shadow: 0px 1px 3px 1px rgba(0, 0, 0, 0.15);\n",
              "    filter: drop-shadow(0px 1px 2px rgba(0, 0, 0, 0.3));\n",
              "    fill: #FFFFFF;\n",
              "  }\n",
              "</style>\n",
              "\n",
              "    <script>\n",
              "      async function quickchart(key) {\n",
              "        const containerElement = document.querySelector('#' + key);\n",
              "        const charts = await google.colab.kernel.invokeFunction(\n",
              "            'suggestCharts', [key], {});\n",
              "      }\n",
              "    </script>\n",
              "\n",
              "      <script>\n",
              "\n",
              "function displayQuickchartButton(domScope) {\n",
              "  let quickchartButtonEl =\n",
              "    domScope.querySelector('#df-d1eefea9-bd56-4c12-b50a-24ee13934c9d button.colab-df-quickchart');\n",
              "  quickchartButtonEl.style.display =\n",
              "    google.colab.kernel.accessAllowed ? 'block' : 'none';\n",
              "}\n",
              "\n",
              "        displayQuickchartButton(document);\n",
              "      </script>\n",
              "      <style>\n",
              "    .colab-df-container {\n",
              "      display:flex;\n",
              "      flex-wrap:wrap;\n",
              "      gap: 12px;\n",
              "    }\n",
              "\n",
              "    .colab-df-convert {\n",
              "      background-color: #E8F0FE;\n",
              "      border: none;\n",
              "      border-radius: 50%;\n",
              "      cursor: pointer;\n",
              "      display: none;\n",
              "      fill: #1967D2;\n",
              "      height: 32px;\n",
              "      padding: 0 0 0 0;\n",
              "      width: 32px;\n",
              "    }\n",
              "\n",
              "    .colab-df-convert:hover {\n",
              "      background-color: #E2EBFA;\n",
              "      box-shadow: 0px 1px 2px rgba(60, 64, 67, 0.3), 0px 1px 3px 1px rgba(60, 64, 67, 0.15);\n",
              "      fill: #174EA6;\n",
              "    }\n",
              "\n",
              "    [theme=dark] .colab-df-convert {\n",
              "      background-color: #3B4455;\n",
              "      fill: #D2E3FC;\n",
              "    }\n",
              "\n",
              "    [theme=dark] .colab-df-convert:hover {\n",
              "      background-color: #434B5C;\n",
              "      box-shadow: 0px 1px 3px 1px rgba(0, 0, 0, 0.15);\n",
              "      filter: drop-shadow(0px 1px 2px rgba(0, 0, 0, 0.3));\n",
              "      fill: #FFFFFF;\n",
              "    }\n",
              "  </style>\n",
              "\n",
              "      <script>\n",
              "        const buttonEl =\n",
              "          document.querySelector('#df-10122040-0358-4dcb-91ad-61496b366bbc button.colab-df-convert');\n",
              "        buttonEl.style.display =\n",
              "          google.colab.kernel.accessAllowed ? 'block' : 'none';\n",
              "\n",
              "        async function convertToInteractive(key) {\n",
              "          const element = document.querySelector('#df-10122040-0358-4dcb-91ad-61496b366bbc');\n",
              "          const dataTable =\n",
              "            await google.colab.kernel.invokeFunction('convertToInteractive',\n",
              "                                                     [key], {});\n",
              "          if (!dataTable) return;\n",
              "\n",
              "          const docLinkHtml = 'Like what you see? Visit the ' +\n",
              "            '<a target=\"_blank\" href=https://colab.research.google.com/notebooks/data_table.ipynb>data table notebook</a>'\n",
              "            + ' to learn more about interactive tables.';\n",
              "          element.innerHTML = '';\n",
              "          dataTable['output_type'] = 'display_data';\n",
              "          await google.colab.output.renderOutput(dataTable, element);\n",
              "          const docLink = document.createElement('div');\n",
              "          docLink.innerHTML = docLinkHtml;\n",
              "          element.appendChild(docLink);\n",
              "        }\n",
              "      </script>\n",
              "    </div>\n",
              "  </div>\n"
            ]
          },
          "metadata": {},
          "execution_count": 18
        }
      ],
      "source": [
        "data1.loc[:, data1.isna().any()]"
      ]
    },
    {
      "cell_type": "code",
      "execution_count": 19,
      "id": "063cacaa",
      "metadata": {
        "id": "063cacaa"
      },
      "outputs": [],
      "source": [
        "#data1.drop('Fwd Avg Packets/Bulk', axis=1, inplace=True)"
      ]
    },
    {
      "cell_type": "code",
      "execution_count": 20,
      "id": "17744ac2",
      "metadata": {
        "colab": {
          "base_uri": "https://localhost:8080/"
        },
        "id": "17744ac2",
        "outputId": "248131f9-6fff-4c37-b2ba-1d79644fc845"
      },
      "outputs": [
        {
          "output_type": "stream",
          "name": "stdout",
          "text": [
            "0\n"
          ]
        }
      ],
      "source": [
        "# sum total of NAN in dataset\n",
        "nan_count = data1.isna().sum().sum()\n",
        "print(nan_count )"
      ]
    },
    {
      "cell_type": "code",
      "execution_count": 21,
      "id": "745d76ef",
      "metadata": {
        "id": "745d76ef"
      },
      "outputs": [],
      "source": [
        "def create_sequences(X, time_steps=5):\n",
        "    Xs = []\n",
        "    for i in range(0, len(X)-time_steps, 1):\n",
        "        Xs.append(X.iloc[i:(i+time_steps)].values)\n",
        "\n",
        "    return np.array(Xs)"
      ]
    },
    {
      "cell_type": "code",
      "execution_count": 22,
      "id": "85bc2050",
      "metadata": {
        "colab": {
          "base_uri": "https://localhost:8080/"
        },
        "id": "85bc2050",
        "outputId": "1dfde110-6d56-4299-b13e-5d3ccf001749"
      },
      "outputs": [
        {
          "output_type": "execute_result",
          "data": {
            "text/plain": [
              "(225706, 5, 68)"
            ]
          },
          "metadata": {},
          "execution_count": 22
        }
      ],
      "source": [
        "X_train=create_sequences(data1)\n",
        "X_train.shape"
      ]
    },
    {
      "cell_type": "code",
      "execution_count": 23,
      "id": "39bd34e4",
      "metadata": {
        "colab": {
          "base_uri": "https://localhost:8080/"
        },
        "id": "39bd34e4",
        "outputId": "b76fe318-e7f5-4b5b-da15-b337a8a7ef22"
      },
      "outputs": [
        {
          "output_type": "stream",
          "name": "stdout",
          "text": [
            "Model: \"model\"\n",
            "_________________________________________________________________\n",
            " Layer (type)                Output Shape              Param #   \n",
            "=================================================================\n",
            " input_1 (InputLayer)        [(None, 5, 68)]           0         \n",
            "                                                                 \n",
            " lstm (LSTM)                 (None, 5, 64)             34048     \n",
            "                                                                 \n",
            " lstm_1 (LSTM)               (None, 5, 32)             12416     \n",
            "                                                                 \n",
            " lstm_2 (LSTM)               (None, 5, 16)             3136      \n",
            "                                                                 \n",
            " lstm_3 (LSTM)               (None, 5)                 440       \n",
            "                                                                 \n",
            " repeat_vector (RepeatVector  (None, 5, 5)             0         \n",
            " )                                                               \n",
            "                                                                 \n",
            " lstm_4 (LSTM)               (None, 5, 16)             1408      \n",
            "                                                                 \n",
            " lstm_5 (LSTM)               (None, 5, 32)             6272      \n",
            "                                                                 \n",
            " lstm_6 (LSTM)               (None, 5, 64)             24832     \n",
            "                                                                 \n",
            " time_distributed (TimeDistr  (None, 5, 68)            4420      \n",
            " ibuted)                                                         \n",
            "                                                                 \n",
            "=================================================================\n",
            "Total params: 86,972\n",
            "Trainable params: 86,972\n",
            "Non-trainable params: 0\n",
            "_________________________________________________________________\n"
          ]
        }
      ],
      "source": [
        "# define the autoencoder network model\n",
        "inputs = Input(shape=(X_train.shape[1], X_train.shape[2]))\n",
        "eL0 = LSTM(64, activation='tanh', return_sequences=True,\n",
        "            recurrent_activation=\"sigmoid\",\n",
        "            kernel_initializer=\"glorot_uniform\",\n",
        "            recurrent_regularizer=regularizers.l2(0.0001),\n",
        "            kernel_regularizer=regularizers.l2(0.0001))(inputs)\n",
        "eL1 = LSTM(32, activation='tanh', return_sequences=True,\n",
        "            recurrent_activation=\"sigmoid\",\n",
        "            kernel_initializer=\"glorot_uniform\",\n",
        "            recurrent_regularizer=regularizers.l2(0.0001),\n",
        "            kernel_regularizer=regularizers.l2(0.0001))(eL0)\n",
        "eL2 = LSTM(16, activation='tanh', return_sequences=True,\n",
        "            recurrent_activation=\"sigmoid\",\n",
        "            kernel_initializer=\"glorot_uniform\",\n",
        "            recurrent_regularizer=regularizers.l2(0.0001),\n",
        "            kernel_regularizer=regularizers.l2(0.0001))(eL1)\n",
        "eL3 = LSTM(5, activation='tanh', return_sequences=False)(eL2)\n",
        "h = RepeatVector(X_train.shape[1])(eL3)\n",
        "dL2 = LSTM(16, activation='tanh', return_sequences=True)(h)\n",
        "dL3 = LSTM(32, activation='tanh', return_sequences=True)(dL2)\n",
        "dL4 = LSTM(64, activation='tanh', return_sequences=True)(dL3)\n",
        "output = TimeDistributed(Dense(X_train.shape[2]))(dL4)\n",
        "model = Model(inputs=inputs, outputs=output)\n",
        "model.summary()"
      ]
    },
    {
      "cell_type": "code",
      "execution_count": 24,
      "id": "9218092b",
      "metadata": {
        "colab": {
          "base_uri": "https://localhost:8080/",
          "height": 1000
        },
        "id": "9218092b",
        "outputId": "b3844590-a475-47c2-88c8-2e8fd9f53826"
      },
      "outputs": [
        {
          "output_type": "stream",
          "name": "stdout",
          "text": [
            "Epoch 1/300\n",
            "2822/2822 [==============================] - 123s 38ms/step - loss: 0.0179 - accuracy: 0.5528 - val_loss: 0.0125 - val_accuracy: 0.5689\n",
            "Epoch 2/300\n",
            "2822/2822 [==============================] - 104s 37ms/step - loss: 0.0087 - accuracy: 0.7714 - val_loss: 0.0102 - val_accuracy: 0.6114\n",
            "Epoch 3/300\n",
            "2822/2822 [==============================] - 103s 37ms/step - loss: 0.0074 - accuracy: 0.8023 - val_loss: 0.0090 - val_accuracy: 0.6263\n",
            "Epoch 4/300\n",
            "2822/2822 [==============================] - 102s 36ms/step - loss: 0.0067 - accuracy: 0.8074 - val_loss: 0.0087 - val_accuracy: 0.6352\n",
            "Epoch 5/300\n",
            "2822/2822 [==============================] - 102s 36ms/step - loss: 0.0063 - accuracy: 0.8136 - val_loss: 0.0086 - val_accuracy: 0.6600\n",
            "Epoch 6/300\n",
            "2822/2822 [==============================] - 99s 35ms/step - loss: 0.0061 - accuracy: 0.8169 - val_loss: 0.0081 - val_accuracy: 0.6732\n",
            "Epoch 7/300\n",
            "2822/2822 [==============================] - 105s 37ms/step - loss: 0.0059 - accuracy: 0.8204 - val_loss: 0.0078 - val_accuracy: 0.6595\n",
            "Epoch 8/300\n",
            "2822/2822 [==============================] - 103s 36ms/step - loss: 0.0058 - accuracy: 0.8219 - val_loss: 0.0079 - val_accuracy: 0.6861\n",
            "Epoch 9/300\n",
            "2822/2822 [==============================] - 102s 36ms/step - loss: 0.0057 - accuracy: 0.8241 - val_loss: 0.0080 - val_accuracy: 0.6895\n",
            "Epoch 10/300\n",
            "2822/2822 [==============================] - 100s 35ms/step - loss: 0.0055 - accuracy: 0.8254 - val_loss: 0.0078 - val_accuracy: 0.6792\n",
            "Epoch 11/300\n",
            "2822/2822 [==============================] - 102s 36ms/step - loss: 0.0055 - accuracy: 0.8258 - val_loss: 0.0075 - val_accuracy: 0.6692\n",
            "Epoch 12/300\n",
            "2822/2822 [==============================] - 99s 35ms/step - loss: 0.0053 - accuracy: 0.8276 - val_loss: 0.0075 - val_accuracy: 0.6868\n",
            "Epoch 13/300\n",
            "2822/2822 [==============================] - 103s 37ms/step - loss: 0.0052 - accuracy: 0.8304 - val_loss: 0.0072 - val_accuracy: 0.6810\n",
            "Epoch 14/300\n",
            "2822/2822 [==============================] - 102s 36ms/step - loss: 0.0050 - accuracy: 0.8330 - val_loss: 0.0070 - val_accuracy: 0.6988\n",
            "Epoch 15/300\n",
            "2822/2822 [==============================] - 101s 36ms/step - loss: 0.0048 - accuracy: 0.8355 - val_loss: 0.0068 - val_accuracy: 0.6832\n",
            "Epoch 16/300\n",
            "2822/2822 [==============================] - 106s 38ms/step - loss: 0.0046 - accuracy: 0.8370 - val_loss: 0.0066 - val_accuracy: 0.6863\n",
            "Epoch 17/300\n",
            "2822/2822 [==============================] - 104s 37ms/step - loss: 0.0043 - accuracy: 0.8374 - val_loss: 0.0065 - val_accuracy: 0.6935\n",
            "Epoch 18/300\n",
            "2822/2822 [==============================] - 104s 37ms/step - loss: 0.0041 - accuracy: 0.8382 - val_loss: 0.0064 - val_accuracy: 0.6804\n",
            "Epoch 19/300\n",
            "2822/2822 [==============================] - 103s 37ms/step - loss: 0.0040 - accuracy: 0.8393 - val_loss: 0.0062 - val_accuracy: 0.6783\n",
            "Epoch 20/300\n",
            "2822/2822 [==============================] - 102s 36ms/step - loss: 0.0039 - accuracy: 0.8405 - val_loss: 0.0063 - val_accuracy: 0.6866\n",
            "Epoch 21/300\n",
            "2822/2822 [==============================] - 101s 36ms/step - loss: 0.0038 - accuracy: 0.8417 - val_loss: 0.0062 - val_accuracy: 0.6966\n",
            "Epoch 22/300\n",
            "2822/2822 [==============================] - 107s 38ms/step - loss: 0.0037 - accuracy: 0.8423 - val_loss: 0.0060 - val_accuracy: 0.6761\n",
            "Epoch 23/300\n",
            "2822/2822 [==============================] - 105s 37ms/step - loss: 0.0037 - accuracy: 0.8441 - val_loss: 0.0059 - val_accuracy: 0.7058\n",
            "Epoch 24/300\n",
            "2822/2822 [==============================] - 103s 37ms/step - loss: 0.0037 - accuracy: 0.8453 - val_loss: 0.0059 - val_accuracy: 0.7039\n",
            "Epoch 25/300\n",
            "2822/2822 [==============================] - 104s 37ms/step - loss: 0.0036 - accuracy: 0.8458 - val_loss: 0.0078 - val_accuracy: 0.6836\n",
            "Epoch 26/300\n",
            "2822/2822 [==============================] - 103s 36ms/step - loss: 0.0036 - accuracy: 0.8461 - val_loss: 0.0059 - val_accuracy: 0.6860\n",
            "Epoch 27/300\n",
            "2822/2822 [==============================] - 104s 37ms/step - loss: 0.0035 - accuracy: 0.8474 - val_loss: 0.0058 - val_accuracy: 0.6863\n",
            "Epoch 28/300\n",
            "2822/2822 [==============================] - 103s 37ms/step - loss: 0.0035 - accuracy: 0.8466 - val_loss: 0.0056 - val_accuracy: 0.7045\n",
            "Epoch 29/300\n",
            "2822/2822 [==============================] - 106s 37ms/step - loss: 0.0035 - accuracy: 0.8473 - val_loss: 0.0055 - val_accuracy: 0.6958\n",
            "Epoch 30/300\n",
            "2822/2822 [==============================] - 105s 37ms/step - loss: 0.0034 - accuracy: 0.8486 - val_loss: 0.0057 - val_accuracy: 0.7126\n",
            "Epoch 31/300\n",
            "2822/2822 [==============================] - 106s 38ms/step - loss: 0.0034 - accuracy: 0.8481 - val_loss: 0.0056 - val_accuracy: 0.7039\n",
            "Epoch 32/300\n",
            "2822/2822 [==============================] - 104s 37ms/step - loss: 0.0034 - accuracy: 0.8480 - val_loss: 0.0057 - val_accuracy: 0.7138\n",
            "Epoch 33/300\n",
            "2822/2822 [==============================] - 105s 37ms/step - loss: 0.0033 - accuracy: 0.8484 - val_loss: 0.0055 - val_accuracy: 0.6900\n",
            "Epoch 34/300\n",
            "2822/2822 [==============================] - 102s 36ms/step - loss: 0.0033 - accuracy: 0.8480 - val_loss: 0.0056 - val_accuracy: 0.7067\n",
            "Epoch 35/300\n",
            "2822/2822 [==============================] - 103s 36ms/step - loss: 0.0033 - accuracy: 0.8477 - val_loss: 0.0056 - val_accuracy: 0.6983\n",
            "Epoch 36/300\n",
            "2822/2822 [==============================] - 105s 37ms/step - loss: 0.0033 - accuracy: 0.8475 - val_loss: 0.0055 - val_accuracy: 0.7207\n",
            "Epoch 37/300\n",
            "2822/2822 [==============================] - 107s 38ms/step - loss: 0.0033 - accuracy: 0.8476 - val_loss: 0.0054 - val_accuracy: 0.6952\n",
            "Epoch 38/300\n",
            "2822/2822 [==============================] - 101s 36ms/step - loss: 0.0032 - accuracy: 0.8471 - val_loss: 0.0054 - val_accuracy: 0.7154\n",
            "Epoch 39/300\n",
            "2822/2822 [==============================] - 108s 38ms/step - loss: 0.0032 - accuracy: 0.8470 - val_loss: 0.0053 - val_accuracy: 0.7134\n",
            "Epoch 40/300\n",
            "2822/2822 [==============================] - 105s 37ms/step - loss: 0.0032 - accuracy: 0.8469 - val_loss: 0.0052 - val_accuracy: 0.7001\n",
            "Epoch 41/300\n",
            "2822/2822 [==============================] - 106s 38ms/step - loss: 0.0031 - accuracy: 0.8474 - val_loss: 0.0055 - val_accuracy: 0.7096\n",
            "Epoch 42/300\n",
            "2822/2822 [==============================] - 104s 37ms/step - loss: 0.0031 - accuracy: 0.8461 - val_loss: 0.0053 - val_accuracy: 0.6889\n",
            "Epoch 43/300\n",
            "2822/2822 [==============================] - 104s 37ms/step - loss: 0.0031 - accuracy: 0.8469 - val_loss: 0.0051 - val_accuracy: 0.7057\n",
            "Epoch 44/300\n",
            "2822/2822 [==============================] - 105s 37ms/step - loss: 0.0030 - accuracy: 0.8463 - val_loss: 0.0051 - val_accuracy: 0.7039\n",
            "Epoch 45/300\n",
            "2822/2822 [==============================] - 104s 37ms/step - loss: 0.0030 - accuracy: 0.8455 - val_loss: 0.0049 - val_accuracy: 0.7189\n",
            "Epoch 46/300\n",
            "2822/2822 [==============================] - 100s 36ms/step - loss: 0.0030 - accuracy: 0.8452 - val_loss: 0.0051 - val_accuracy: 0.7139\n",
            "Epoch 47/300\n",
            "2822/2822 [==============================] - 101s 36ms/step - loss: 0.0029 - accuracy: 0.8456 - val_loss: 0.0049 - val_accuracy: 0.7164\n",
            "Epoch 48/300\n",
            "2822/2822 [==============================] - 102s 36ms/step - loss: 0.0029 - accuracy: 0.8454 - val_loss: 0.0048 - val_accuracy: 0.7211\n",
            "Epoch 49/300\n",
            "2822/2822 [==============================] - 101s 36ms/step - loss: 0.0028 - accuracy: 0.8462 - val_loss: 0.0048 - val_accuracy: 0.7305\n",
            "Epoch 50/300\n",
            "2822/2822 [==============================] - 106s 38ms/step - loss: 0.0028 - accuracy: 0.8465 - val_loss: 0.0048 - val_accuracy: 0.7195\n",
            "Epoch 51/300\n",
            "2822/2822 [==============================] - 104s 37ms/step - loss: 0.0027 - accuracy: 0.8469 - val_loss: 0.0047 - val_accuracy: 0.7183\n",
            "Epoch 52/300\n",
            "2822/2822 [==============================] - 107s 38ms/step - loss: 0.0027 - accuracy: 0.8473 - val_loss: 0.0047 - val_accuracy: 0.7076\n",
            "Epoch 53/300\n",
            "2822/2822 [==============================] - 99s 35ms/step - loss: 0.0027 - accuracy: 0.8477 - val_loss: 0.0045 - val_accuracy: 0.7300\n",
            "Epoch 54/300\n",
            "2822/2822 [==============================] - 101s 36ms/step - loss: 0.0027 - accuracy: 0.8483 - val_loss: 0.0044 - val_accuracy: 0.7264\n",
            "Epoch 55/300\n",
            "2822/2822 [==============================] - 107s 38ms/step - loss: 0.0026 - accuracy: 0.8487 - val_loss: 0.0045 - val_accuracy: 0.7242\n",
            "Epoch 56/300\n",
            "2822/2822 [==============================] - 101s 36ms/step - loss: 0.0026 - accuracy: 0.8484 - val_loss: 0.0043 - val_accuracy: 0.7282\n",
            "Epoch 57/300\n",
            "2822/2822 [==============================] - 101s 36ms/step - loss: 0.0025 - accuracy: 0.8497 - val_loss: 0.0046 - val_accuracy: 0.7079\n",
            "Epoch 58/300\n",
            "2822/2822 [==============================] - 103s 37ms/step - loss: 0.0025 - accuracy: 0.8496 - val_loss: 0.0042 - val_accuracy: 0.7275\n",
            "Epoch 59/300\n",
            "2822/2822 [==============================] - 103s 37ms/step - loss: 0.0025 - accuracy: 0.8492 - val_loss: 0.0043 - val_accuracy: 0.7236\n",
            "Epoch 60/300\n",
            "2822/2822 [==============================] - 99s 35ms/step - loss: 0.0025 - accuracy: 0.8498 - val_loss: 0.0043 - val_accuracy: 0.7176\n",
            "Epoch 61/300\n",
            "2822/2822 [==============================] - 103s 37ms/step - loss: 0.0025 - accuracy: 0.8504 - val_loss: 0.0042 - val_accuracy: 0.7221\n",
            "Epoch 62/300\n",
            "2822/2822 [==============================] - 105s 37ms/step - loss: 0.0024 - accuracy: 0.8496 - val_loss: 0.0042 - val_accuracy: 0.7305\n",
            "Epoch 63/300\n",
            "2822/2822 [==============================] - 101s 36ms/step - loss: 0.0024 - accuracy: 0.8501 - val_loss: 0.0041 - val_accuracy: 0.7131\n",
            "Epoch 64/300\n",
            "2822/2822 [==============================] - 104s 37ms/step - loss: 0.0024 - accuracy: 0.8500 - val_loss: 0.0041 - val_accuracy: 0.7272\n",
            "Epoch 65/300\n",
            "2822/2822 [==============================] - 106s 37ms/step - loss: 0.0024 - accuracy: 0.8490 - val_loss: 0.0041 - val_accuracy: 0.7214\n",
            "Epoch 66/300\n",
            "2822/2822 [==============================] - 100s 36ms/step - loss: 0.0024 - accuracy: 0.8500 - val_loss: 0.0040 - val_accuracy: 0.7148\n",
            "Epoch 67/300\n",
            "2822/2822 [==============================] - 106s 37ms/step - loss: 0.0024 - accuracy: 0.8496 - val_loss: 0.0040 - val_accuracy: 0.7230\n",
            "Epoch 68/300\n",
            "2822/2822 [==============================] - 101s 36ms/step - loss: 0.0023 - accuracy: 0.8489 - val_loss: 0.0040 - val_accuracy: 0.7177\n",
            "Epoch 69/300\n",
            "2822/2822 [==============================] - 107s 38ms/step - loss: 0.0023 - accuracy: 0.8487 - val_loss: 0.0040 - val_accuracy: 0.7199\n",
            "Epoch 70/300\n",
            "2822/2822 [==============================] - 100s 36ms/step - loss: 0.0023 - accuracy: 0.8479 - val_loss: 0.0040 - val_accuracy: 0.7363\n",
            "Epoch 71/300\n",
            "2822/2822 [==============================] - 105s 37ms/step - loss: 0.0023 - accuracy: 0.8477 - val_loss: 0.0040 - val_accuracy: 0.7254\n",
            "Epoch 72/300\n",
            "2822/2822 [==============================] - 106s 38ms/step - loss: 0.0022 - accuracy: 0.8471 - val_loss: 0.0038 - val_accuracy: 0.7155\n",
            "Epoch 73/300\n",
            "2822/2822 [==============================] - 101s 36ms/step - loss: 0.0022 - accuracy: 0.8477 - val_loss: 0.0038 - val_accuracy: 0.7223\n",
            "Epoch 74/300\n",
            "2822/2822 [==============================] - 104s 37ms/step - loss: 0.0022 - accuracy: 0.8472 - val_loss: 0.0037 - val_accuracy: 0.7063\n",
            "Epoch 75/300\n",
            "2822/2822 [==============================] - 103s 36ms/step - loss: 0.0022 - accuracy: 0.8471 - val_loss: 0.0042 - val_accuracy: 0.7198\n",
            "Epoch 76/300\n",
            "2822/2822 [==============================] - 100s 35ms/step - loss: 0.0022 - accuracy: 0.8462 - val_loss: 0.0037 - val_accuracy: 0.7273\n",
            "Epoch 77/300\n",
            "2822/2822 [==============================] - 106s 37ms/step - loss: 0.0022 - accuracy: 0.8475 - val_loss: 0.0037 - val_accuracy: 0.7062\n",
            "Epoch 78/300\n",
            "2822/2822 [==============================] - 105s 37ms/step - loss: 0.0022 - accuracy: 0.8467 - val_loss: 0.0041 - val_accuracy: 0.7248\n",
            "Epoch 79/300\n",
            "2822/2822 [==============================] - 101s 36ms/step - loss: 0.0021 - accuracy: 0.8472 - val_loss: 0.0038 - val_accuracy: 0.7211\n",
            "Epoch 80/300\n",
            "2822/2822 [==============================] - 101s 36ms/step - loss: 0.0021 - accuracy: 0.8468 - val_loss: 0.0036 - val_accuracy: 0.7098\n",
            "Epoch 81/300\n",
            "2822/2822 [==============================] - 107s 38ms/step - loss: 0.0021 - accuracy: 0.8469 - val_loss: 0.0038 - val_accuracy: 0.7261\n",
            "Epoch 82/300\n",
            "2822/2822 [==============================] - 102s 36ms/step - loss: 0.0021 - accuracy: 0.8472 - val_loss: 0.0037 - val_accuracy: 0.7115\n",
            "Epoch 83/300\n",
            "2822/2822 [==============================] - 106s 37ms/step - loss: 0.0021 - accuracy: 0.8474 - val_loss: 0.0038 - val_accuracy: 0.7152\n",
            "Epoch 84/300\n",
            "2822/2822 [==============================] - 107s 38ms/step - loss: 0.0021 - accuracy: 0.8467 - val_loss: 0.0035 - val_accuracy: 0.7123\n",
            "Epoch 85/300\n",
            "2822/2822 [==============================] - 105s 37ms/step - loss: 0.0021 - accuracy: 0.8472 - val_loss: 0.0034 - val_accuracy: 0.7130\n",
            "Epoch 86/300\n",
            "2822/2822 [==============================] - 102s 36ms/step - loss: 0.0021 - accuracy: 0.8474 - val_loss: 0.0035 - val_accuracy: 0.7185\n",
            "Epoch 87/300\n",
            "2822/2822 [==============================] - 103s 37ms/step - loss: 0.0020 - accuracy: 0.8484 - val_loss: 0.0035 - val_accuracy: 0.7199\n",
            "Epoch 88/300\n",
            "2822/2822 [==============================] - 106s 37ms/step - loss: 0.0021 - accuracy: 0.8475 - val_loss: 0.0035 - val_accuracy: 0.7142\n",
            "Epoch 89/300\n",
            "2822/2822 [==============================] - 106s 38ms/step - loss: 0.0020 - accuracy: 0.8471 - val_loss: 0.0034 - val_accuracy: 0.7111\n",
            "Epoch 90/300\n",
            "2822/2822 [==============================] - 108s 38ms/step - loss: 0.0020 - accuracy: 0.8479 - val_loss: 0.0035 - val_accuracy: 0.7202\n",
            "Epoch 91/300\n",
            "2822/2822 [==============================] - 103s 37ms/step - loss: 0.0020 - accuracy: 0.8475 - val_loss: 0.0036 - val_accuracy: 0.7284\n",
            "Epoch 92/300\n",
            "2822/2822 [==============================] - 102s 36ms/step - loss: 0.0020 - accuracy: 0.8472 - val_loss: 0.0035 - val_accuracy: 0.7033\n",
            "Epoch 93/300\n",
            "2822/2822 [==============================] - 104s 37ms/step - loss: 0.0020 - accuracy: 0.8469 - val_loss: 0.0033 - val_accuracy: 0.7146\n",
            "Epoch 94/300\n",
            "2822/2822 [==============================] - 105s 37ms/step - loss: 0.0020 - accuracy: 0.8477 - val_loss: 0.0034 - val_accuracy: 0.7082\n",
            "Epoch 95/300\n",
            "2822/2822 [==============================] - 105s 37ms/step - loss: 0.0020 - accuracy: 0.8471 - val_loss: 0.0034 - val_accuracy: 0.7069\n",
            "Epoch 96/300\n",
            "2822/2822 [==============================] - 103s 36ms/step - loss: 0.0019 - accuracy: 0.8459 - val_loss: 0.0035 - val_accuracy: 0.7145\n",
            "Epoch 97/300\n",
            "2822/2822 [==============================] - 108s 38ms/step - loss: 0.0019 - accuracy: 0.8463 - val_loss: 0.0033 - val_accuracy: 0.7186\n",
            "Epoch 98/300\n",
            "2822/2822 [==============================] - 101s 36ms/step - loss: 0.0019 - accuracy: 0.8468 - val_loss: 0.0033 - val_accuracy: 0.7087\n",
            "Epoch 99/300\n",
            "2822/2822 [==============================] - 107s 38ms/step - loss: 0.0019 - accuracy: 0.8468 - val_loss: 0.0035 - val_accuracy: 0.7140\n",
            "Epoch 100/300\n",
            "2822/2822 [==============================] - 103s 37ms/step - loss: 0.0019 - accuracy: 0.8464 - val_loss: 0.0034 - val_accuracy: 0.7089\n",
            "Epoch 101/300\n",
            "2822/2822 [==============================] - 103s 36ms/step - loss: 0.0019 - accuracy: 0.8461 - val_loss: 0.0034 - val_accuracy: 0.7034\n",
            "Epoch 102/300\n",
            "2822/2822 [==============================] - 104s 37ms/step - loss: 0.0019 - accuracy: 0.8462 - val_loss: 0.0033 - val_accuracy: 0.7204\n",
            "Epoch 103/300\n",
            "2822/2822 [==============================] - 104s 37ms/step - loss: 0.0019 - accuracy: 0.8470 - val_loss: 0.0033 - val_accuracy: 0.7037\n",
            "Epoch 104/300\n",
            "2822/2822 [==============================] - 111s 39ms/step - loss: 0.0019 - accuracy: 0.8469 - val_loss: 0.0037 - val_accuracy: 0.7119\n",
            "Epoch 105/300\n",
            "2822/2822 [==============================] - 104s 37ms/step - loss: 0.0019 - accuracy: 0.8453 - val_loss: 0.0036 - val_accuracy: 0.7025\n",
            "Epoch 106/300\n",
            "2822/2822 [==============================] - 108s 38ms/step - loss: 0.0019 - accuracy: 0.8460 - val_loss: 0.0034 - val_accuracy: 0.7133\n",
            "Epoch 107/300\n",
            "2822/2822 [==============================] - 110s 39ms/step - loss: 0.0019 - accuracy: 0.8462 - val_loss: 0.0033 - val_accuracy: 0.7067\n"
          ]
        },
        {
          "output_type": "display_data",
          "data": {
            "text/plain": [
              "<Figure size 480x320 with 1 Axes>"
            ],
            "image/png": "[encoded data removed]"
          },
          "metadata": {}
        }
      ],
      "source": [
        "# fit the model to the data\n",
        "callback = tf.keras.callbacks.EarlyStopping(monitor='loss', patience=3)\n",
        "nb_epochs = 300\n",
        "batch_size = 64\n",
        "opt = keras.optimizers.Adam(learning_rate=0.001)\n",
        "model.compile(optimizer=opt, loss='mse', metrics=['accuracy'])\n",
        "#model.compile(optimizer=opt, loss='log_cosh', metrics=['accuracy'])\n",
        "\n",
        "history = model.fit(X_train, X_train,\n",
        "                    epochs=nb_epochs,\n",
        "                    batch_size=batch_size,\n",
        "                    validation_split=0.2,\n",
        "                    callbacks=[callback]\n",
        "                    ).history\n",
        "\n",
        "\n",
        "\n",
        "# plot the training losses\n",
        "fig, ax = plt.subplots(figsize=(6, 4), dpi=80)\n",
        "ax.plot(history['loss'], 'b', label='Train', linewidth=2)\n",
        "ax.plot(history['val_loss'], 'r', label='Validation', linewidth=2)\n",
        "ax.set_title('Model loss', fontsize=16)\n",
        "ax.set_ylabel('Loss (mse)')\n",
        "ax.set_xlabel('Epoch')\n",
        "ax.legend(loc='upper right')\n",
        "plt.show()"
      ]
    },
    {
      "cell_type": "code",
      "execution_count": 25,
      "id": "845217d9",
      "metadata": {
        "colab": {
          "base_uri": "https://localhost:8080/"
        },
        "id": "845217d9",
        "outputId": "449db97d-c824-423f-b1cf-0ef2576f3e32"
      },
      "outputs": [
        {
          "output_type": "stream",
          "name": "stdout",
          "text": [
            "7054/7054 [==============================] - 42s 6ms/step\n"
          ]
        }
      ],
      "source": [
        "encode = Model(inputs=inputs, outputs=model.layers[5].output)\n",
        "output_encoder = encode.predict(X_train[:])"
      ]
    },
    {
      "cell_type": "code",
      "execution_count": 26,
      "id": "17ed918e",
      "metadata": {
        "colab": {
          "base_uri": "https://localhost:8080/"
        },
        "id": "17ed918e",
        "outputId": "99cf2e04-0070-4825-e796-2d53096e0a7f"
      },
      "outputs": [
        {
          "output_type": "execute_result",
          "data": {
            "text/plain": [
              "225706"
            ]
          },
          "metadata": {},
          "execution_count": 26
        }
      ],
      "source": [
        "len(output_encoder)"
      ]
    },
    {
      "cell_type": "code",
      "execution_count": 27,
      "id": "91ceacee",
      "metadata": {
        "id": "91ceacee"
      },
      "outputs": [],
      "source": [
        "outputs =[]\n",
        "for i in output_encoder:\n",
        "    arr = i[4].tolist()\n",
        "    outputs.append(arr)"
      ]
    },
    {
      "cell_type": "code",
      "execution_count": 28,
      "id": "2de3255c",
      "metadata": {
        "colab": {
          "base_uri": "https://localhost:8080/"
        },
        "id": "2de3255c",
        "outputId": "75046133-dba0-42a5-fd09-36ea34738163"
      },
      "outputs": [
        {
          "output_type": "execute_result",
          "data": {
            "text/plain": [
              "225706"
            ]
          },
          "metadata": {},
          "execution_count": 28
        }
      ],
      "source": [
        "len(outputs)"
      ]
    },
    {
      "cell_type": "code",
      "execution_count": 29,
      "id": "7ef9b19c",
      "metadata": {
        "id": "7ef9b19c"
      },
      "outputs": [],
      "source": [
        "df = pd.DataFrame(outputs)"
      ]
    },
    {
      "cell_type": "code",
      "execution_count": 30,
      "id": "33387335",
      "metadata": {
        "id": "33387335"
      },
      "outputs": [],
      "source": [
        "Labels = Labels[:-5]"
      ]
    },
    {
      "cell_type": "code",
      "execution_count": 31,
      "id": "9dbb34d3",
      "metadata": {
        "colab": {
          "base_uri": "https://localhost:8080/"
        },
        "id": "9dbb34d3",
        "outputId": "c6df6ccf-b933-4286-da0a-291766e0fc95"
      },
      "outputs": [
        {
          "output_type": "execute_result",
          "data": {
            "text/plain": [
              "225706"
            ]
          },
          "metadata": {},
          "execution_count": 31
        }
      ],
      "source": [
        "len(Labels)"
      ]
    },
    {
      "cell_type": "code",
      "execution_count": 32,
      "id": "e514a7fd",
      "metadata": {
        "colab": {
          "base_uri": "https://localhost:8080/"
        },
        "id": "e514a7fd",
        "outputId": "551fe862-da04-48e4-9bcd-cf5708cbe57f"
      },
      "outputs": [
        {
          "output_type": "execute_result",
          "data": {
            "text/plain": [
              "(225706, 6)"
            ]
          },
          "metadata": {},
          "execution_count": 32
        }
      ],
      "source": [
        "df['Labels']=Labels\n",
        "df.shape"
      ]
    },
    {
      "cell_type": "code",
      "execution_count": 33,
      "id": "a1adcf31",
      "metadata": {
        "colab": {
          "base_uri": "https://localhost:8080/"
        },
        "id": "a1adcf31",
        "outputId": "776d40be-0238-414e-ba3b-224f870ebd2c"
      },
      "outputs": [
        {
          "output_type": "execute_result",
          "data": {
            "text/plain": [
              "array([0, 1])"
            ]
          },
          "metadata": {},
          "execution_count": 33
        }
      ],
      "source": [
        "df['Labels'].unique()"
      ]
    },
    {
      "cell_type": "code",
      "execution_count": 34,
      "id": "4c20cdb2",
      "metadata": {
        "id": "4c20cdb2"
      },
      "outputs": [],
      "source": [
        "encoded=df"
      ]
    },
    {
      "cell_type": "code",
      "execution_count": 35,
      "id": "36ccfc97",
      "metadata": {
        "id": "36ccfc97"
      },
      "outputs": [],
      "source": [
        "encoded.columns=['V1','V2','V3','V4','V5','Labels']"
      ]
    },
    {
      "cell_type": "code",
      "execution_count": 36,
      "id": "2cb6065d",
      "metadata": {
        "colab": {
          "base_uri": "https://localhost:8080/"
        },
        "id": "2cb6065d",
        "outputId": "27aa67d4-d678-460f-cd05-d2cc776afd6d"
      },
      "outputs": [
        {
          "output_type": "execute_result",
          "data": {
            "text/plain": [
              "1    128025\n",
              "0     97681\n",
              "Name: Labels, dtype: int64"
            ]
          },
          "metadata": {},
          "execution_count": 36
        }
      ],
      "source": [
        "encoded['Labels'].value_counts()"
      ]
    },
    {
      "cell_type": "code",
      "execution_count": 37,
      "id": "51f7f3f7",
      "metadata": {
        "id": "51f7f3f7"
      },
      "outputs": [],
      "source": [
        "y = encoded[['Labels']]\n",
        "X = encoded.drop(['Labels'], axis=1)"
      ]
    },
    {
      "cell_type": "code",
      "execution_count": 38,
      "id": "56b0431b",
      "metadata": {
        "colab": {
          "base_uri": "https://localhost:8080/"
        },
        "id": "56b0431b",
        "outputId": "80f7f871-8792-4f29-bba3-d8a8257a8b19"
      },
      "outputs": [
        {
          "output_type": "execute_result",
          "data": {
            "text/plain": [
              "((225706, 1), (225706, 5))"
            ]
          },
          "metadata": {},
          "execution_count": 38
        }
      ],
      "source": [
        "y.shape, X.shape"
      ]
    },
    {
      "cell_type": "code",
      "execution_count": 39,
      "id": "d09d53b7",
      "metadata": {
        "id": "d09d53b7"
      },
      "outputs": [],
      "source": [
        "X_labeled, X_unlabeled, y_labeled, _ = train_test_split(X, y, test_size=0.5, random_state=42)"
      ]
    },
    {
      "cell_type": "code",
      "execution_count": 40,
      "id": "b13b24e0",
      "metadata": {
        "id": "b13b24e0"
      },
      "outputs": [],
      "source": [
        "from sklearn.preprocessing import LabelEncoder"
      ]
    },
    {
      "cell_type": "code",
      "execution_count": 41,
      "id": "51531237",
      "metadata": {
        "id": "51531237"
      },
      "outputs": [],
      "source": [
        "# Initialize LabelEncoder\n",
        "label_encoder = LabelEncoder()"
      ]
    },
    {
      "cell_type": "code",
      "execution_count": 42,
      "id": "2ed54544",
      "metadata": {
        "colab": {
          "base_uri": "https://localhost:8080/"
        },
        "id": "2ed54544",
        "outputId": "534b337c-27d9-4592-a17a-71f15fcbd55c"
      },
      "outputs": [
        {
          "output_type": "stream",
          "name": "stderr",
          "text": [
            "/usr/local/lib/python3.10/dist-packages/sklearn/preprocessing/_label.py:116: DataConversionWarning: A column-vector y was passed when a 1d array was expected. Please change the shape of y to (n_samples, ), for example using ravel().\n",
            "  y = column_or_1d(y, warn=True)\n"
          ]
        }
      ],
      "source": [
        "# Fit and transform the labels\n",
        "encoded_labels = label_encoder.fit_transform(y_labeled)"
      ]
    },
    {
      "cell_type": "code",
      "execution_count": 43,
      "id": "d11906d8",
      "metadata": {
        "id": "d11906d8"
      },
      "outputs": [],
      "source": [
        "# Get the number of classes\n",
        "num_classes = len(label_encoder.classes_)"
      ]
    },
    {
      "cell_type": "code",
      "execution_count": 44,
      "id": "6ded8551",
      "metadata": {
        "id": "6ded8551",
        "outputId": "165ced91-a421-4bc5-e638-d9c7bcfa5dd2",
        "colab": {
          "base_uri": "https://localhost:8080/"
        }
      },
      "outputs": [
        {
          "output_type": "stream",
          "name": "stdout",
          "text": [
            "[1 1 1 0 0]\n"
          ]
        }
      ],
      "source": [
        "print(encoded_labels[0:5])"
      ]
    },
    {
      "cell_type": "code",
      "execution_count": 45,
      "id": "076d4d70",
      "metadata": {
        "id": "076d4d70"
      },
      "outputs": [],
      "source": [
        "# Convert to one-hot encoding\n",
        "#labeled_labels_onehot = tf.keras.utils.to_categorical(encoded_labels, num_classes)\n",
        "labeled_labels_onehot = encoded_labels.reshape(-1, 1)"
      ]
    },
    {
      "cell_type": "code",
      "execution_count": 46,
      "id": "8863e8f0",
      "metadata": {
        "id": "8863e8f0",
        "outputId": "a8165bcb-feb3-42a9-ca2e-296acd8176eb",
        "colab": {
          "base_uri": "https://localhost:8080/"
        }
      },
      "outputs": [
        {
          "output_type": "stream",
          "name": "stdout",
          "text": [
            "[[1]\n",
            " [1]\n",
            " [1]\n",
            " [0]\n",
            " [0]]\n"
          ]
        }
      ],
      "source": [
        "print(labeled_labels_onehot[0:5])"
      ]
    },
    {
      "cell_type": "code",
      "execution_count": 47,
      "id": "e2eacc0e",
      "metadata": {
        "id": "e2eacc0e"
      },
      "outputs": [],
      "source": [
        "# Split the data into labeled and unlabeled examples\n",
        "# labeled_data, unlabeled_data, labeled_labels, _ = train_test_split(data, labels, test_size=0.5, stratify=labels)"
      ]
    },
    {
      "cell_type": "code",
      "execution_count": 48,
      "id": "015327dd",
      "metadata": {
        "colab": {
          "base_uri": "https://localhost:8080/"
        },
        "id": "015327dd",
        "outputId": "44d83eef-86ca-42c3-99ae-cf4c27dd7bd2"
      },
      "outputs": [
        {
          "output_type": "execute_result",
          "data": {
            "text/plain": [
              "(112853, 5)"
            ]
          },
          "metadata": {},
          "execution_count": 48
        }
      ],
      "source": [
        "X_labeled.shape"
      ]
    },
    {
      "cell_type": "code",
      "execution_count": 49,
      "id": "f50d5fb4",
      "metadata": {
        "colab": {
          "base_uri": "https://localhost:8080/"
        },
        "id": "f50d5fb4",
        "outputId": "62cb2ae5-7111-46de-ccb1-a1e45481f199"
      },
      "outputs": [
        {
          "output_type": "execute_result",
          "data": {
            "text/plain": [
              "(112853, 5)"
            ]
          },
          "metadata": {},
          "execution_count": 49
        }
      ],
      "source": [
        "X_unlabeled.shape"
      ]
    },
    {
      "cell_type": "code",
      "execution_count": 50,
      "id": "b828c4c0",
      "metadata": {
        "colab": {
          "base_uri": "https://localhost:8080/"
        },
        "id": "b828c4c0",
        "outputId": "d7714c2c-201e-4e89-f802-9441a85492a5"
      },
      "outputs": [
        {
          "output_type": "execute_result",
          "data": {
            "text/plain": [
              "(112853, 1)"
            ]
          },
          "metadata": {},
          "execution_count": 50
        }
      ],
      "source": [
        "y_labeled.shape"
      ]
    },
    {
      "cell_type": "code",
      "execution_count": 51,
      "id": "91460af1",
      "metadata": {
        "colab": {
          "base_uri": "https://localhost:8080/"
        },
        "id": "91460af1",
        "outputId": "9a729a6b-f499-44bb-d3be-e5a3b2979024"
      },
      "outputs": [
        {
          "output_type": "execute_result",
          "data": {
            "text/plain": [
              "(112853, 1)"
            ]
          },
          "metadata": {},
          "execution_count": 51
        }
      ],
      "source": [
        "labeled_labels_onehot.shape"
      ]
    },
    {
      "cell_type": "code",
      "execution_count": 52,
      "id": "18c932c4",
      "metadata": {
        "id": "18c932c4"
      },
      "outputs": [],
      "source": [
        "# Define the model architecture\n",
        "model = Sequential()\n",
        "model.add(Dense(12, input_shape=(5,), activation='relu'))\n",
        "model.add(Dense(2, activation='relu'))\n",
        "model.add(Dense(1, activation='sigmoid'))"
      ]
    },
    {
      "cell_type": "code",
      "execution_count": 53,
      "id": "bc7cb9f0",
      "metadata": {
        "id": "bc7cb9f0"
      },
      "outputs": [],
      "source": [
        "# Compile the model\n",
        "model.compile(optimizer='adam', loss='binary_crossentropy', metrics=['accuracy'])"
      ]
    },
    {
      "cell_type": "code",
      "execution_count": 54,
      "id": "8655c9b7",
      "metadata": {
        "id": "8655c9b7",
        "colab": {
          "base_uri": "https://localhost:8080/"
        },
        "outputId": "87bbdcd1-89ba-4bb8-ca97-eaf4e840840a"
      },
      "outputs": [
        {
          "output_type": "stream",
          "name": "stdout",
          "text": [
            "Epoch 1/200\n",
            "3527/3527 [==============================] - 8s 2ms/step - loss: 0.1589 - accuracy: 0.9543\n",
            "Epoch 2/200\n",
            "3527/3527 [==============================] - 8s 2ms/step - loss: 0.0385 - accuracy: 0.9902\n",
            "Epoch 3/200\n",
            "3527/3527 [==============================] - 7s 2ms/step - loss: 0.0274 - accuracy: 0.9922\n",
            "Epoch 4/200\n",
            "3527/3527 [==============================] - 8s 2ms/step - loss: 0.0232 - accuracy: 0.9934\n",
            "Epoch 5/200\n",
            "3527/3527 [==============================] - 7s 2ms/step - loss: 0.0213 - accuracy: 0.9939\n",
            "Epoch 6/200\n",
            "3527/3527 [==============================] - 8s 2ms/step - loss: 0.0201 - accuracy: 0.9944\n",
            "Epoch 7/200\n",
            "3527/3527 [==============================] - 7s 2ms/step - loss: 0.0195 - accuracy: 0.9945\n",
            "Epoch 8/200\n",
            "3527/3527 [==============================] - 8s 2ms/step - loss: 0.0190 - accuracy: 0.9947\n",
            "Epoch 9/200\n",
            "3527/3527 [==============================] - 7s 2ms/step - loss: 0.0187 - accuracy: 0.9948\n",
            "Epoch 10/200\n",
            "3527/3527 [==============================] - 8s 2ms/step - loss: 0.0181 - accuracy: 0.9950\n",
            "Epoch 11/200\n",
            "3527/3527 [==============================] - 7s 2ms/step - loss: 0.0179 - accuracy: 0.9952\n",
            "Epoch 12/200\n",
            "3527/3527 [==============================] - 8s 2ms/step - loss: 0.0175 - accuracy: 0.9953\n",
            "Epoch 13/200\n",
            "3527/3527 [==============================] - 7s 2ms/step - loss: 0.0174 - accuracy: 0.9955\n",
            "Epoch 14/200\n",
            "3527/3527 [==============================] - 8s 2ms/step - loss: 0.0171 - accuracy: 0.9954\n",
            "Epoch 15/200\n",
            "3527/3527 [==============================] - 7s 2ms/step - loss: 0.0169 - accuracy: 0.9955\n",
            "Epoch 16/200\n",
            "3527/3527 [==============================] - 8s 2ms/step - loss: 0.0167 - accuracy: 0.9954\n",
            "Epoch 17/200\n",
            "3527/3527 [==============================] - 7s 2ms/step - loss: 0.0165 - accuracy: 0.9955\n",
            "Epoch 18/200\n",
            "3527/3527 [==============================] - 8s 2ms/step - loss: 0.0163 - accuracy: 0.9956\n",
            "Epoch 19/200\n",
            "3527/3527 [==============================] - 7s 2ms/step - loss: 0.0162 - accuracy: 0.9957\n",
            "Epoch 20/200\n",
            "3527/3527 [==============================] - 8s 2ms/step - loss: 0.0159 - accuracy: 0.9958\n",
            "Epoch 21/200\n",
            "3527/3527 [==============================] - 7s 2ms/step - loss: 0.0158 - accuracy: 0.9958\n",
            "Epoch 22/200\n",
            "3527/3527 [==============================] - 8s 2ms/step - loss: 0.0157 - accuracy: 0.9959\n",
            "Epoch 23/200\n",
            "3527/3527 [==============================] - 7s 2ms/step - loss: 0.0155 - accuracy: 0.9959\n",
            "Epoch 24/200\n",
            "3527/3527 [==============================] - 8s 2ms/step - loss: 0.0152 - accuracy: 0.9959\n",
            "Epoch 25/200\n",
            "3527/3527 [==============================] - 7s 2ms/step - loss: 0.0153 - accuracy: 0.9959\n",
            "Epoch 26/200\n",
            "3527/3527 [==============================] - 8s 2ms/step - loss: 0.0152 - accuracy: 0.9960\n",
            "Epoch 27/200\n",
            "3527/3527 [==============================] - 8s 2ms/step - loss: 0.0149 - accuracy: 0.9961\n",
            "Epoch 28/200\n",
            "3527/3527 [==============================] - 8s 2ms/step - loss: 0.0146 - accuracy: 0.9963\n",
            "Epoch 29/200\n",
            "3527/3527 [==============================] - 7s 2ms/step - loss: 0.0148 - accuracy: 0.9960\n",
            "Epoch 30/200\n",
            "3527/3527 [==============================] - 8s 2ms/step - loss: 0.0146 - accuracy: 0.9961\n",
            "Epoch 31/200\n",
            "3527/3527 [==============================] - 7s 2ms/step - loss: 0.0144 - accuracy: 0.9962\n",
            "Epoch 32/200\n",
            "3527/3527 [==============================] - 8s 2ms/step - loss: 0.0144 - accuracy: 0.9962\n",
            "Epoch 33/200\n",
            "3527/3527 [==============================] - 7s 2ms/step - loss: 0.0142 - accuracy: 0.9962\n",
            "Epoch 34/200\n",
            "3527/3527 [==============================] - 8s 2ms/step - loss: 0.0142 - accuracy: 0.9963\n",
            "Epoch 35/200\n",
            "3527/3527 [==============================] - 7s 2ms/step - loss: 0.0140 - accuracy: 0.9964\n",
            "Epoch 36/200\n",
            "3527/3527 [==============================] - 8s 2ms/step - loss: 0.0142 - accuracy: 0.9963\n",
            "Epoch 37/200\n",
            "3527/3527 [==============================] - 7s 2ms/step - loss: 0.0140 - accuracy: 0.9963\n",
            "Epoch 38/200\n",
            "3527/3527 [==============================] - 8s 2ms/step - loss: 0.0140 - accuracy: 0.9962\n",
            "Epoch 39/200\n",
            "3527/3527 [==============================] - 7s 2ms/step - loss: 0.0140 - accuracy: 0.9963\n",
            "Epoch 40/200\n",
            "3527/3527 [==============================] - 8s 2ms/step - loss: 0.0138 - accuracy: 0.9964\n",
            "Epoch 41/200\n",
            "3527/3527 [==============================] - 7s 2ms/step - loss: 0.0137 - accuracy: 0.9964\n",
            "Epoch 42/200\n",
            "3527/3527 [==============================] - 8s 2ms/step - loss: 0.0137 - accuracy: 0.9965\n",
            "Epoch 43/200\n",
            "3527/3527 [==============================] - 7s 2ms/step - loss: 0.0135 - accuracy: 0.9964\n",
            "Epoch 44/200\n",
            "3527/3527 [==============================] - 8s 2ms/step - loss: 0.0135 - accuracy: 0.9964\n",
            "Epoch 45/200\n",
            "3527/3527 [==============================] - 7s 2ms/step - loss: 0.0134 - accuracy: 0.9965\n",
            "Epoch 46/200\n",
            "3527/3527 [==============================] - 8s 2ms/step - loss: 0.0134 - accuracy: 0.9963\n",
            "Epoch 47/200\n",
            "3527/3527 [==============================] - 7s 2ms/step - loss: 0.0132 - accuracy: 0.9964\n",
            "Epoch 48/200\n",
            "3527/3527 [==============================] - 8s 2ms/step - loss: 0.0131 - accuracy: 0.9965\n",
            "Epoch 49/200\n",
            "3527/3527 [==============================] - 7s 2ms/step - loss: 0.0132 - accuracy: 0.9965\n",
            "Epoch 50/200\n",
            "3527/3527 [==============================] - 7s 2ms/step - loss: 0.0130 - accuracy: 0.9966\n",
            "Epoch 51/200\n",
            "3527/3527 [==============================] - 7s 2ms/step - loss: 0.0130 - accuracy: 0.9966\n",
            "Epoch 52/200\n",
            "3527/3527 [==============================] - 7s 2ms/step - loss: 0.0130 - accuracy: 0.9966\n",
            "Epoch 53/200\n",
            "3527/3527 [==============================] - 7s 2ms/step - loss: 0.0131 - accuracy: 0.9966\n",
            "Epoch 54/200\n",
            "3527/3527 [==============================] - 7s 2ms/step - loss: 0.0128 - accuracy: 0.9966\n",
            "Epoch 55/200\n",
            "3527/3527 [==============================] - 7s 2ms/step - loss: 0.0131 - accuracy: 0.9966\n",
            "Epoch 56/200\n",
            "3527/3527 [==============================] - 7s 2ms/step - loss: 0.0129 - accuracy: 0.9966\n",
            "Epoch 57/200\n",
            "3527/3527 [==============================] - 8s 2ms/step - loss: 0.0128 - accuracy: 0.9966\n",
            "Epoch 58/200\n",
            "3527/3527 [==============================] - 7s 2ms/step - loss: 0.0130 - accuracy: 0.9965\n",
            "Epoch 59/200\n",
            "3527/3527 [==============================] - 8s 2ms/step - loss: 0.0130 - accuracy: 0.9966\n",
            "Epoch 60/200\n",
            "3527/3527 [==============================] - 7s 2ms/step - loss: 0.0127 - accuracy: 0.9965\n",
            "Epoch 61/200\n",
            "3527/3527 [==============================] - 8s 2ms/step - loss: 0.0128 - accuracy: 0.9967\n",
            "Epoch 62/200\n",
            "3527/3527 [==============================] - 7s 2ms/step - loss: 0.0126 - accuracy: 0.9966\n",
            "Epoch 63/200\n",
            "3527/3527 [==============================] - 8s 2ms/step - loss: 0.0129 - accuracy: 0.9966\n",
            "Epoch 64/200\n",
            "3527/3527 [==============================] - 7s 2ms/step - loss: 0.0127 - accuracy: 0.9966\n",
            "Epoch 65/200\n",
            "3527/3527 [==============================] - 8s 2ms/step - loss: 0.0128 - accuracy: 0.9965\n",
            "Epoch 66/200\n",
            "3527/3527 [==============================] - 7s 2ms/step - loss: 0.0128 - accuracy: 0.9967\n",
            "Epoch 67/200\n",
            "3527/3527 [==============================] - 8s 2ms/step - loss: 0.0127 - accuracy: 0.9967\n",
            "Epoch 68/200\n",
            "3527/3527 [==============================] - 7s 2ms/step - loss: 0.0125 - accuracy: 0.9966\n",
            "Epoch 69/200\n",
            "3527/3527 [==============================] - 8s 2ms/step - loss: 0.0126 - accuracy: 0.9967\n",
            "Epoch 70/200\n",
            "3527/3527 [==============================] - 7s 2ms/step - loss: 0.0126 - accuracy: 0.9966\n",
            "Epoch 71/200\n",
            "3527/3527 [==============================] - 8s 2ms/step - loss: 0.0126 - accuracy: 0.9967\n",
            "Epoch 72/200\n",
            "3527/3527 [==============================] - 9s 3ms/step - loss: 0.0127 - accuracy: 0.9966\n",
            "Epoch 73/200\n",
            "3527/3527 [==============================] - 11s 3ms/step - loss: 0.0127 - accuracy: 0.9967\n",
            "Epoch 74/200\n",
            "3527/3527 [==============================] - 7s 2ms/step - loss: 0.0126 - accuracy: 0.9968\n",
            "Epoch 75/200\n",
            "3527/3527 [==============================] - 8s 2ms/step - loss: 0.0126 - accuracy: 0.9967\n",
            "Epoch 76/200\n",
            "3527/3527 [==============================] - 7s 2ms/step - loss: 0.0126 - accuracy: 0.9967\n",
            "Epoch 77/200\n",
            "3527/3527 [==============================] - 8s 2ms/step - loss: 0.0125 - accuracy: 0.9966\n",
            "Epoch 78/200\n",
            "3527/3527 [==============================] - 7s 2ms/step - loss: 0.0124 - accuracy: 0.9967\n",
            "Epoch 79/200\n",
            "3527/3527 [==============================] - 8s 2ms/step - loss: 0.0127 - accuracy: 0.9967\n",
            "Epoch 80/200\n",
            "3527/3527 [==============================] - 7s 2ms/step - loss: 0.0126 - accuracy: 0.9965\n",
            "Epoch 81/200\n",
            "3527/3527 [==============================] - 8s 2ms/step - loss: 0.0126 - accuracy: 0.9967\n",
            "Epoch 82/200\n",
            "3527/3527 [==============================] - 7s 2ms/step - loss: 0.0127 - accuracy: 0.9967\n",
            "Epoch 83/200\n",
            "3527/3527 [==============================] - 8s 2ms/step - loss: 0.0126 - accuracy: 0.9966\n",
            "Epoch 84/200\n",
            "3527/3527 [==============================] - 7s 2ms/step - loss: 0.0126 - accuracy: 0.9967\n",
            "Epoch 85/200\n",
            "3527/3527 [==============================] - 8s 2ms/step - loss: 0.0124 - accuracy: 0.9967\n",
            "Epoch 86/200\n",
            "3527/3527 [==============================] - 7s 2ms/step - loss: 0.0125 - accuracy: 0.9966\n",
            "Epoch 87/200\n",
            "3527/3527 [==============================] - 8s 2ms/step - loss: 0.0127 - accuracy: 0.9966\n",
            "Epoch 88/200\n",
            "3527/3527 [==============================] - 7s 2ms/step - loss: 0.0126 - accuracy: 0.9967\n",
            "Epoch 89/200\n",
            "3527/3527 [==============================] - 8s 2ms/step - loss: 0.0127 - accuracy: 0.9967\n",
            "Epoch 90/200\n",
            "3527/3527 [==============================] - 7s 2ms/step - loss: 0.0127 - accuracy: 0.9967\n",
            "Epoch 91/200\n",
            "3527/3527 [==============================] - 8s 2ms/step - loss: 0.0126 - accuracy: 0.9967\n",
            "Epoch 92/200\n",
            "3527/3527 [==============================] - 7s 2ms/step - loss: 0.0125 - accuracy: 0.9966\n",
            "Epoch 93/200\n",
            "3527/3527 [==============================] - 8s 2ms/step - loss: 0.0124 - accuracy: 0.9967\n",
            "Epoch 94/200\n",
            "3527/3527 [==============================] - 7s 2ms/step - loss: 0.0126 - accuracy: 0.9966\n",
            "Epoch 95/200\n",
            "3527/3527 [==============================] - 8s 2ms/step - loss: 0.0125 - accuracy: 0.9967\n",
            "Epoch 96/200\n",
            "3527/3527 [==============================] - 7s 2ms/step - loss: 0.0126 - accuracy: 0.9967\n",
            "Epoch 97/200\n",
            "3527/3527 [==============================] - 8s 2ms/step - loss: 0.0124 - accuracy: 0.9968\n",
            "Epoch 98/200\n",
            "3527/3527 [==============================] - 7s 2ms/step - loss: 0.0126 - accuracy: 0.9966\n",
            "Epoch 99/200\n",
            "3527/3527 [==============================] - 8s 2ms/step - loss: 0.0124 - accuracy: 0.9968\n",
            "Epoch 100/200\n",
            "3527/3527 [==============================] - 7s 2ms/step - loss: 0.0125 - accuracy: 0.9967\n",
            "Epoch 101/200\n",
            "3527/3527 [==============================] - 8s 2ms/step - loss: 0.0124 - accuracy: 0.9967\n",
            "Epoch 102/200\n",
            "3527/3527 [==============================] - 7s 2ms/step - loss: 0.0124 - accuracy: 0.9966\n",
            "Epoch 103/200\n",
            "3527/3527 [==============================] - 8s 2ms/step - loss: 0.0123 - accuracy: 0.9968\n",
            "Epoch 104/200\n",
            "3527/3527 [==============================] - 7s 2ms/step - loss: 0.0124 - accuracy: 0.9965\n",
            "Epoch 105/200\n",
            "3527/3527 [==============================] - 8s 2ms/step - loss: 0.0124 - accuracy: 0.9966\n",
            "Epoch 106/200\n",
            "3527/3527 [==============================] - 7s 2ms/step - loss: 0.0125 - accuracy: 0.9966\n",
            "Epoch 107/200\n",
            "3527/3527 [==============================] - 8s 2ms/step - loss: 0.0125 - accuracy: 0.9967\n",
            "Epoch 108/200\n",
            "3527/3527 [==============================] - 7s 2ms/step - loss: 0.0123 - accuracy: 0.9966\n",
            "Epoch 109/200\n",
            "3527/3527 [==============================] - 8s 2ms/step - loss: 0.0125 - accuracy: 0.9966\n",
            "Epoch 110/200\n",
            "3527/3527 [==============================] - 7s 2ms/step - loss: 0.0125 - accuracy: 0.9966\n",
            "Epoch 111/200\n",
            "3527/3527 [==============================] - 8s 2ms/step - loss: 0.0123 - accuracy: 0.9967\n",
            "Epoch 112/200\n",
            "3527/3527 [==============================] - 7s 2ms/step - loss: 0.0125 - accuracy: 0.9966\n",
            "Epoch 113/200\n",
            "3527/3527 [==============================] - 8s 2ms/step - loss: 0.0125 - accuracy: 0.9967\n",
            "Epoch 114/200\n",
            "3527/3527 [==============================] - 7s 2ms/step - loss: 0.0124 - accuracy: 0.9967\n",
            "Epoch 115/200\n",
            "3527/3527 [==============================] - 8s 2ms/step - loss: 0.0125 - accuracy: 0.9966\n",
            "Epoch 116/200\n",
            "3527/3527 [==============================] - 7s 2ms/step - loss: 0.0123 - accuracy: 0.9966\n",
            "Epoch 117/200\n",
            "3527/3527 [==============================] - 8s 2ms/step - loss: 0.0124 - accuracy: 0.9967\n",
            "Epoch 118/200\n",
            "3527/3527 [==============================] - 7s 2ms/step - loss: 0.0125 - accuracy: 0.9967\n",
            "Epoch 119/200\n",
            "3527/3527 [==============================] - 8s 2ms/step - loss: 0.0123 - accuracy: 0.9967\n",
            "Epoch 120/200\n",
            "3527/3527 [==============================] - 7s 2ms/step - loss: 0.0123 - accuracy: 0.9967\n",
            "Epoch 121/200\n",
            "3527/3527 [==============================] - 8s 2ms/step - loss: 0.0123 - accuracy: 0.9966\n",
            "Epoch 122/200\n",
            "3527/3527 [==============================] - 8s 2ms/step - loss: 0.0125 - accuracy: 0.9966\n",
            "Epoch 123/200\n",
            "3527/3527 [==============================] - 8s 2ms/step - loss: 0.0122 - accuracy: 0.9968\n",
            "Epoch 124/200\n",
            "3527/3527 [==============================] - 7s 2ms/step - loss: 0.0125 - accuracy: 0.9965\n",
            "Epoch 125/200\n",
            "3527/3527 [==============================] - 8s 2ms/step - loss: 0.0125 - accuracy: 0.9967\n",
            "Epoch 126/200\n",
            "3527/3527 [==============================] - 7s 2ms/step - loss: 0.0124 - accuracy: 0.9967\n",
            "Epoch 127/200\n",
            "3527/3527 [==============================] - 8s 2ms/step - loss: 0.0122 - accuracy: 0.9968\n",
            "Epoch 128/200\n",
            "3527/3527 [==============================] - 7s 2ms/step - loss: 0.0123 - accuracy: 0.9967\n",
            "Epoch 129/200\n",
            "3527/3527 [==============================] - 8s 2ms/step - loss: 0.0125 - accuracy: 0.9967\n",
            "Epoch 130/200\n",
            "3527/3527 [==============================] - 7s 2ms/step - loss: 0.0124 - accuracy: 0.9966\n",
            "Epoch 131/200\n",
            "3527/3527 [==============================] - 8s 2ms/step - loss: 0.0124 - accuracy: 0.9967\n",
            "Epoch 132/200\n",
            "3527/3527 [==============================] - 7s 2ms/step - loss: 0.0124 - accuracy: 0.9967\n",
            "Epoch 133/200\n",
            "3527/3527 [==============================] - 8s 2ms/step - loss: 0.0122 - accuracy: 0.9966\n",
            "Epoch 134/200\n",
            "3527/3527 [==============================] - 7s 2ms/step - loss: 0.0123 - accuracy: 0.9968\n",
            "Epoch 135/200\n",
            "3527/3527 [==============================] - 8s 2ms/step - loss: 0.0123 - accuracy: 0.9967\n",
            "Epoch 136/200\n",
            "3527/3527 [==============================] - 7s 2ms/step - loss: 0.0123 - accuracy: 0.9967\n",
            "Epoch 137/200\n",
            "3527/3527 [==============================] - 8s 2ms/step - loss: 0.0121 - accuracy: 0.9967\n",
            "Epoch 138/200\n",
            "3527/3527 [==============================] - 7s 2ms/step - loss: 0.0123 - accuracy: 0.9967\n",
            "Epoch 139/200\n",
            "3527/3527 [==============================] - 8s 2ms/step - loss: 0.0123 - accuracy: 0.9967\n",
            "Epoch 140/200\n",
            "3527/3527 [==============================] - 7s 2ms/step - loss: 0.0124 - accuracy: 0.9967\n",
            "Epoch 141/200\n",
            "3527/3527 [==============================] - 8s 2ms/step - loss: 0.0124 - accuracy: 0.9967\n",
            "Epoch 142/200\n",
            "3527/3527 [==============================] - 7s 2ms/step - loss: 0.0122 - accuracy: 0.9966\n",
            "Epoch 143/200\n",
            "3527/3527 [==============================] - 8s 2ms/step - loss: 0.0123 - accuracy: 0.9967\n",
            "Epoch 144/200\n",
            "3527/3527 [==============================] - 7s 2ms/step - loss: 0.0124 - accuracy: 0.9967\n",
            "Epoch 145/200\n",
            "3527/3527 [==============================] - 8s 2ms/step - loss: 0.0124 - accuracy: 0.9966\n",
            "Epoch 146/200\n",
            "3527/3527 [==============================] - 7s 2ms/step - loss: 0.0121 - accuracy: 0.9968\n",
            "Epoch 147/200\n",
            "3527/3527 [==============================] - 8s 2ms/step - loss: 0.0125 - accuracy: 0.9966\n",
            "Epoch 148/200\n",
            "3527/3527 [==============================] - 7s 2ms/step - loss: 0.0121 - accuracy: 0.9968\n",
            "Epoch 149/200\n",
            "3527/3527 [==============================] - 8s 2ms/step - loss: 0.0124 - accuracy: 0.9967\n",
            "Epoch 150/200\n",
            "3527/3527 [==============================] - 7s 2ms/step - loss: 0.0123 - accuracy: 0.9967\n",
            "Epoch 151/200\n",
            "3527/3527 [==============================] - 8s 2ms/step - loss: 0.0123 - accuracy: 0.9966\n",
            "Epoch 152/200\n",
            "3527/3527 [==============================] - 7s 2ms/step - loss: 0.0123 - accuracy: 0.9967\n",
            "Epoch 153/200\n",
            "3527/3527 [==============================] - 9s 2ms/step - loss: 0.0122 - accuracy: 0.9967\n",
            "Epoch 154/200\n",
            "3527/3527 [==============================] - 7s 2ms/step - loss: 0.0122 - accuracy: 0.9967\n",
            "Epoch 155/200\n",
            "3527/3527 [==============================] - 8s 2ms/step - loss: 0.0121 - accuracy: 0.9967\n",
            "Epoch 156/200\n",
            "3527/3527 [==============================] - 7s 2ms/step - loss: 0.0123 - accuracy: 0.9967\n",
            "Epoch 157/200\n",
            "3527/3527 [==============================] - 8s 2ms/step - loss: 0.0122 - accuracy: 0.9968\n",
            "Epoch 158/200\n",
            "3527/3527 [==============================] - 7s 2ms/step - loss: 0.0122 - accuracy: 0.9967\n",
            "Epoch 159/200\n",
            "3527/3527 [==============================] - 8s 2ms/step - loss: 0.0122 - accuracy: 0.9968\n",
            "Epoch 160/200\n",
            "3527/3527 [==============================] - 7s 2ms/step - loss: 0.0124 - accuracy: 0.9968\n",
            "Epoch 161/200\n",
            "3527/3527 [==============================] - 9s 2ms/step - loss: 0.0121 - accuracy: 0.9967\n",
            "Epoch 162/200\n",
            "3527/3527 [==============================] - 7s 2ms/step - loss: 0.0122 - accuracy: 0.9966\n",
            "Epoch 163/200\n",
            "3527/3527 [==============================] - 9s 2ms/step - loss: 0.0122 - accuracy: 0.9967\n",
            "Epoch 164/200\n",
            "3527/3527 [==============================] - 7s 2ms/step - loss: 0.0122 - accuracy: 0.9967\n",
            "Epoch 165/200\n",
            "3527/3527 [==============================] - 8s 2ms/step - loss: 0.0123 - accuracy: 0.9967\n",
            "Epoch 166/200\n",
            "3527/3527 [==============================] - 7s 2ms/step - loss: 0.0120 - accuracy: 0.9968\n",
            "Epoch 167/200\n",
            "3527/3527 [==============================] - 8s 2ms/step - loss: 0.0123 - accuracy: 0.9966\n",
            "Epoch 168/200\n",
            "3527/3527 [==============================] - 7s 2ms/step - loss: 0.0122 - accuracy: 0.9967\n",
            "Epoch 169/200\n",
            "3527/3527 [==============================] - 8s 2ms/step - loss: 0.0122 - accuracy: 0.9968\n",
            "Epoch 170/200\n",
            "3527/3527 [==============================] - 7s 2ms/step - loss: 0.0122 - accuracy: 0.9968\n",
            "Epoch 171/200\n",
            "3527/3527 [==============================] - 8s 2ms/step - loss: 0.0121 - accuracy: 0.9968\n",
            "Epoch 172/200\n",
            "3527/3527 [==============================] - 7s 2ms/step - loss: 0.0122 - accuracy: 0.9966\n",
            "Epoch 173/200\n",
            "3527/3527 [==============================] - 9s 3ms/step - loss: 0.0123 - accuracy: 0.9967\n",
            "Epoch 174/200\n",
            "3527/3527 [==============================] - 8s 2ms/step - loss: 0.0122 - accuracy: 0.9967\n",
            "Epoch 175/200\n",
            "3527/3527 [==============================] - 8s 2ms/step - loss: 0.0120 - accuracy: 0.9967\n",
            "Epoch 176/200\n",
            "3527/3527 [==============================] - 8s 2ms/step - loss: 0.0121 - accuracy: 0.9967\n",
            "Epoch 177/200\n",
            "3527/3527 [==============================] - 8s 2ms/step - loss: 0.0121 - accuracy: 0.9967\n",
            "Epoch 178/200\n",
            "3527/3527 [==============================] - 8s 2ms/step - loss: 0.0123 - accuracy: 0.9966\n",
            "Epoch 179/200\n",
            "3527/3527 [==============================] - 8s 2ms/step - loss: 0.0123 - accuracy: 0.9967\n",
            "Epoch 180/200\n",
            "3527/3527 [==============================] - 7s 2ms/step - loss: 0.0122 - accuracy: 0.9968\n",
            "Epoch 181/200\n",
            "3527/3527 [==============================] - 8s 2ms/step - loss: 0.0122 - accuracy: 0.9967\n",
            "Epoch 182/200\n",
            "3527/3527 [==============================] - 8s 2ms/step - loss: 0.0120 - accuracy: 0.9968\n",
            "Epoch 183/200\n",
            "3527/3527 [==============================] - 8s 2ms/step - loss: 0.0122 - accuracy: 0.9968\n",
            "Epoch 184/200\n",
            "3527/3527 [==============================] - 8s 2ms/step - loss: 0.0123 - accuracy: 0.9966\n",
            "Epoch 185/200\n",
            "3527/3527 [==============================] - 7s 2ms/step - loss: 0.0121 - accuracy: 0.9967\n",
            "Epoch 186/200\n",
            "3527/3527 [==============================] - 8s 2ms/step - loss: 0.0123 - accuracy: 0.9967\n",
            "Epoch 187/200\n",
            "3527/3527 [==============================] - 7s 2ms/step - loss: 0.0121 - accuracy: 0.9968\n",
            "Epoch 188/200\n",
            "3527/3527 [==============================] - 8s 2ms/step - loss: 0.0120 - accuracy: 0.9967\n",
            "Epoch 189/200\n",
            "3527/3527 [==============================] - 7s 2ms/step - loss: 0.0120 - accuracy: 0.9969\n",
            "Epoch 190/200\n",
            "3527/3527 [==============================] - 8s 2ms/step - loss: 0.0124 - accuracy: 0.9967\n",
            "Epoch 191/200\n",
            "3527/3527 [==============================] - 7s 2ms/step - loss: 0.0121 - accuracy: 0.9968\n",
            "Epoch 192/200\n",
            "3527/3527 [==============================] - 9s 3ms/step - loss: 0.0122 - accuracy: 0.9966\n",
            "Epoch 193/200\n",
            "3527/3527 [==============================] - 7s 2ms/step - loss: 0.0123 - accuracy: 0.9966\n",
            "Epoch 194/200\n",
            "3527/3527 [==============================] - 8s 2ms/step - loss: 0.0121 - accuracy: 0.9966\n",
            "Epoch 195/200\n",
            "3527/3527 [==============================] - 7s 2ms/step - loss: 0.0120 - accuracy: 0.9968\n",
            "Epoch 196/200\n",
            "3527/3527 [==============================] - 8s 2ms/step - loss: 0.0122 - accuracy: 0.9967\n",
            "Epoch 197/200\n",
            "3527/3527 [==============================] - 7s 2ms/step - loss: 0.0121 - accuracy: 0.9967\n",
            "Epoch 198/200\n",
            "3527/3527 [==============================] - 8s 2ms/step - loss: 0.0121 - accuracy: 0.9966\n",
            "Epoch 199/200\n",
            "3527/3527 [==============================] - 7s 2ms/step - loss: 0.0121 - accuracy: 0.9967\n",
            "Epoch 200/200\n",
            "3527/3527 [==============================] - 9s 2ms/step - loss: 0.0122 - accuracy: 0.9967\n"
          ]
        },
        {
          "output_type": "execute_result",
          "data": {
            "text/plain": [
              "<keras.callbacks.History at 0x7be6d5323c10>"
            ]
          },
          "metadata": {},
          "execution_count": 54
        }
      ],
      "source": [
        "# Train the model\n",
        "model.fit(X_labeled, labeled_labels_onehot, epochs=200)"
      ]
    },
    {
      "cell_type": "code",
      "execution_count": 55,
      "id": "a9cdee3e",
      "metadata": {
        "id": "a9cdee3e"
      },
      "outputs": [],
      "source": [
        "# Save the trained model\n",
        "model.save('nbw_model.h5')"
      ]
    },
    {
      "cell_type": "code",
      "execution_count": 56,
      "id": "86b95ca0",
      "metadata": {
        "colab": {
          "base_uri": "https://localhost:8080/"
        },
        "id": "86b95ca0",
        "outputId": "b0c7f6c6-251c-4e0b-e76b-5d23d6dafe5f"
      },
      "outputs": [
        {
          "output_type": "stream",
          "name": "stderr",
          "text": [
            "WARNING:absl:Found untraced functions such as _update_step_xla while saving (showing 1 of 1). These functions will not be directly callable after loading.\n"
          ]
        }
      ],
      "source": [
        "# Convert the Keras model to a TensorFlow Lite model\n",
        "converter = tf.lite.TFLiteConverter.from_keras_model(model)\n",
        "tflite_model = converter.convert()"
      ]
    },
    {
      "cell_type": "code",
      "execution_count": 57,
      "id": "486bd443",
      "metadata": {
        "id": "486bd443"
      },
      "outputs": [],
      "source": [
        "# Save the TensorFlow Lite model to a file\n",
        "with open('nbw_model.tflite', 'wb') as f:\n",
        "    f.write(tflite_model)"
      ]
    },
    {
      "cell_type": "code",
      "execution_count": 58,
      "id": "dc1ff728",
      "metadata": {
        "id": "dc1ff728"
      },
      "outputs": [],
      "source": [
        "# Load the TensorFlow Lite model\n",
        "interpreter = tf.lite.Interpreter(model_path='nbw_model.tflite')\n",
        "interpreter.allocate_tensors()"
      ]
    },
    {
      "cell_type": "code",
      "execution_count": 59,
      "id": "1bfd5411",
      "metadata": {
        "colab": {
          "base_uri": "https://localhost:8080/"
        },
        "id": "1bfd5411",
        "outputId": "4e7e41f0-91b7-47ff-dcc2-53dda22804af"
      },
      "outputs": [
        {
          "output_type": "stream",
          "name": "stdout",
          "text": [
            "Input shape: [1 5]\n",
            "Input type: <class 'numpy.float32'>\n",
            "Output shape: [1 1]\n",
            "Output type: <class 'numpy.float32'>\n"
          ]
        }
      ],
      "source": [
        "# Get input and output details\n",
        "input_details = interpreter.get_input_details()\n",
        "output_details = interpreter.get_output_details()\n",
        "print(\"Input shape:\", input_details[0][\"shape\"])\n",
        "print(\"Input type:\", input_details[0][\"dtype\"])\n",
        "print(\"Output shape:\", output_details[0][\"shape\"])\n",
        "print(\"Output type:\", output_details[0][\"dtype\"])"
      ]
    },
    {
      "cell_type": "code",
      "execution_count": 60,
      "id": "253f1fea",
      "metadata": {
        "id": "253f1fea"
      },
      "outputs": [],
      "source": [
        "# resize the shape\n",
        "interpreter.resize_tensor_input(input_details[0]['index'], (112853, 5))\n",
        "interpreter.resize_tensor_input(output_details[0]['index'], (112853, 1))\n",
        "interpreter.allocate_tensors()\n",
        "input_details = interpreter.get_input_details()\n",
        "output_details = interpreter.get_output_details()"
      ]
    },
    {
      "cell_type": "code",
      "execution_count": 61,
      "id": "cdcee1bf",
      "metadata": {
        "id": "cdcee1bf"
      },
      "outputs": [],
      "source": [
        "unlabeled_data_for_inference = np.array(X_unlabeled, dtype=np.float32)"
      ]
    },
    {
      "cell_type": "code",
      "execution_count": 62,
      "id": "c63f7f53",
      "metadata": {
        "id": "c63f7f53"
      },
      "outputs": [],
      "source": [
        "# Perform inference on the unlabeled data\n",
        "interpreter.set_tensor(input_details[0]['index'], unlabeled_data_for_inference)\n",
        "interpreter.invoke()\n",
        "predicted_labels_onehot = interpreter.get_tensor(output_details[0]['index'])"
      ]
    },
    {
      "cell_type": "code",
      "execution_count": 63,
      "id": "cf50d060",
      "metadata": {
        "id": "cf50d060"
      },
      "outputs": [],
      "source": [
        "# Extract the predicted labels\n",
        "predicted_labels = np.argmax(predicted_labels_onehot, axis=1)"
      ]
    },
    {
      "cell_type": "code",
      "execution_count": 64,
      "id": "693a11c9",
      "metadata": {
        "id": "693a11c9"
      },
      "outputs": [],
      "source": [
        "# Add confident predictions to the labeled data (same as before)\n",
        "confident_mask = np.amax(predicted_labels_onehot, axis=1) > 0.9\n",
        "confident_data = X_unlabeled[confident_mask]\n",
        "confident_labels = predicted_labels[confident_mask]\n",
        "labeled_data = np.concatenate([X_labeled, confident_data])"
      ]
    },
    {
      "cell_type": "code",
      "source": [
        "# Reshape confident_labels separately\n",
        "confident_labels_onehot = confident_labels.reshape(-1, 1)"
      ],
      "metadata": {
        "id": "QyJwiAUU_9pa"
      },
      "id": "QyJwiAUU_9pa",
      "execution_count": 69,
      "outputs": []
    },
    {
      "cell_type": "code",
      "source": [
        "confident_labels_onehot_reshape = confident_labels_onehot[:, 0].reshape(-1, 1)"
      ],
      "metadata": {
        "id": "I-ZZ_BWYFdrU"
      },
      "id": "I-ZZ_BWYFdrU",
      "execution_count": 70,
      "outputs": []
    },
    {
      "cell_type": "code",
      "source": [
        "# Concatenate labeled_labels_onehot and confident_labels_onehot\n",
        "labeled_labels_onehot = np.concatenate([labeled_labels_onehot, confident_labels_onehot])"
      ],
      "metadata": {
        "id": "ZBQAuH4l_9gR"
      },
      "id": "ZBQAuH4l_9gR",
      "execution_count": 71,
      "outputs": []
    },
    {
      "cell_type": "code",
      "execution_count": 72,
      "id": "8a136991",
      "metadata": {
        "id": "8a136991"
      },
      "outputs": [],
      "source": [
        "# Evaluate the model on the test data (same as before)\n",
        "test_data, test_labels = shuffle(X, y)"
      ]
    },
    {
      "cell_type": "code",
      "execution_count": 73,
      "id": "b0a39f82",
      "metadata": {
        "colab": {
          "base_uri": "https://localhost:8080/",
          "height": 109
        },
        "id": "b0a39f82",
        "outputId": "5bb2dccc-dfbd-4caf-e560-f64857db9126"
      },
      "outputs": [
        {
          "output_type": "stream",
          "name": "stderr",
          "text": [
            "/usr/local/lib/python3.10/dist-packages/sklearn/preprocessing/_label.py:99: DataConversionWarning: A column-vector y was passed when a 1d array was expected. Please change the shape of y to (n_samples, ), for example using ravel().\n",
            "  y = column_or_1d(y, warn=True)\n"
          ]
        },
        {
          "output_type": "execute_result",
          "data": {
            "text/plain": [
              "LabelEncoder()"
            ],
            "text/html": [
              "<style>#sk-container-id-1 {color: black;background-color: white;}#sk-container-id-1 pre{padding: 0;}#sk-container-id-1 div.sk-toggleable {background-color: white;}#sk-container-id-1 label.sk-toggleable__label {cursor: pointer;display: block;width: 100%;margin-bottom: 0;padding: 0.3em;box-sizing: border-box;text-align: center;}#sk-container-id-1 label.sk-toggleable__label-arrow:before {content: \"▸\";float: left;margin-right: 0.25em;color: #696969;}#sk-container-id-1 label.sk-toggleable__label-arrow:hover:before {color: black;}#sk-container-id-1 div.sk-estimator:hover label.sk-toggleable__label-arrow:before {color: black;}#sk-container-id-1 div.sk-toggleable__content {max-height: 0;max-width: 0;overflow: hidden;text-align: left;background-color: #f0f8ff;}#sk-container-id-1 div.sk-toggleable__content pre {margin: 0.2em;color: black;border-radius: 0.25em;background-color: #f0f8ff;}#sk-container-id-1 input.sk-toggleable__control:checked~div.sk-toggleable__content {max-height: 200px;max-width: 100%;overflow: auto;}#sk-container-id-1 input.sk-toggleable__control:checked~label.sk-toggleable__label-arrow:before {content: \"▾\";}#sk-container-id-1 div.sk-estimator input.sk-toggleable__control:checked~label.sk-toggleable__label {background-color: #d4ebff;}#sk-container-id-1 div.sk-label input.sk-toggleable__control:checked~label.sk-toggleable__label {background-color: #d4ebff;}#sk-container-id-1 input.sk-hidden--visually {border: 0;clip: rect(1px 1px 1px 1px);clip: rect(1px, 1px, 1px, 1px);height: 1px;margin: -1px;overflow: hidden;padding: 0;position: absolute;width: 1px;}#sk-container-id-1 div.sk-estimator {font-family: monospace;background-color: #f0f8ff;border: 1px dotted black;border-radius: 0.25em;box-sizing: border-box;margin-bottom: 0.5em;}#sk-container-id-1 div.sk-estimator:hover {background-color: #d4ebff;}#sk-container-id-1 div.sk-parallel-item::after {content: \"\";width: 100%;border-bottom: 1px solid gray;flex-grow: 1;}#sk-container-id-1 div.sk-label:hover label.sk-toggleable__label {background-color: #d4ebff;}#sk-container-id-1 div.sk-serial::before {content: \"\";position: absolute;border-left: 1px solid gray;box-sizing: border-box;top: 0;bottom: 0;left: 50%;z-index: 0;}#sk-container-id-1 div.sk-serial {display: flex;flex-direction: column;align-items: center;background-color: white;padding-right: 0.2em;padding-left: 0.2em;position: relative;}#sk-container-id-1 div.sk-item {position: relative;z-index: 1;}#sk-container-id-1 div.sk-parallel {display: flex;align-items: stretch;justify-content: center;background-color: white;position: relative;}#sk-container-id-1 div.sk-item::before, #sk-container-id-1 div.sk-parallel-item::before {content: \"\";position: absolute;border-left: 1px solid gray;box-sizing: border-box;top: 0;bottom: 0;left: 50%;z-index: -1;}#sk-container-id-1 div.sk-parallel-item {display: flex;flex-direction: column;z-index: 1;position: relative;background-color: white;}#sk-container-id-1 div.sk-parallel-item:first-child::after {align-self: flex-end;width: 50%;}#sk-container-id-1 div.sk-parallel-item:last-child::after {align-self: flex-start;width: 50%;}#sk-container-id-1 div.sk-parallel-item:only-child::after {width: 0;}#sk-container-id-1 div.sk-dashed-wrapped {border: 1px dashed gray;margin: 0 0.4em 0.5em 0.4em;box-sizing: border-box;padding-bottom: 0.4em;background-color: white;}#sk-container-id-1 div.sk-label label {font-family: monospace;font-weight: bold;display: inline-block;line-height: 1.2em;}#sk-container-id-1 div.sk-label-container {text-align: center;}#sk-container-id-1 div.sk-container {/* jupyter's `normalize.less` sets `[hidden] { display: none; }` but bootstrap.min.css set `[hidden] { display: none !important; }` so we also need the `!important` here to be able to override the default hidden behavior on the sphinx rendered scikit-learn.org. See: https://github.com/scikit-learn/scikit-learn/issues/21755 */display: inline-block !important;position: relative;}#sk-container-id-1 div.sk-text-repr-fallback {display: none;}</style><div id=\"sk-container-id-1\" class=\"sk-top-container\"><div class=\"sk-text-repr-fallback\"><pre>LabelEncoder()</pre><b>In a Jupyter environment, please rerun this cell to show the HTML representation or trust the notebook. <br />On GitHub, the HTML representation is unable to render, please try loading this page with nbviewer.org.</b></div><div class=\"sk-container\" hidden><div class=\"sk-item\"><div class=\"sk-estimator sk-toggleable\"><input class=\"sk-toggleable__control sk-hidden--visually\" id=\"sk-estimator-id-1\" type=\"checkbox\" checked><label for=\"sk-estimator-id-1\" class=\"sk-toggleable__label sk-toggleable__label-arrow\">LabelEncoder</label><div class=\"sk-toggleable__content\"><pre>LabelEncoder()</pre></div></div></div></div></div>"
            ]
          },
          "metadata": {},
          "execution_count": 73
        }
      ],
      "source": [
        "label_encoder = LabelEncoder()\n",
        "label_encoder.fit(test_labels)"
      ]
    },
    {
      "cell_type": "code",
      "execution_count": 74,
      "id": "eb66015d",
      "metadata": {
        "colab": {
          "base_uri": "https://localhost:8080/"
        },
        "id": "eb66015d",
        "outputId": "bbc386cf-1b0e-4e9d-f677-9ac5a72cf42f"
      },
      "outputs": [
        {
          "output_type": "stream",
          "name": "stderr",
          "text": [
            "/usr/local/lib/python3.10/dist-packages/sklearn/preprocessing/_label.py:134: DataConversionWarning: A column-vector y was passed when a 1d array was expected. Please change the shape of y to (n_samples, ), for example using ravel().\n",
            "  y = column_or_1d(y, dtype=self.classes_.dtype, warn=True)\n"
          ]
        }
      ],
      "source": [
        "encoded_labels = label_encoder.transform(test_labels)"
      ]
    },
    {
      "cell_type": "code",
      "execution_count": 75,
      "id": "a164deed",
      "metadata": {
        "id": "a164deed"
      },
      "outputs": [],
      "source": [
        "test_labels_onehot = tf.keras.utils.to_categorical(encoded_labels, num_classes)"
      ]
    },
    {
      "cell_type": "code",
      "execution_count": 76,
      "id": "6298cefd",
      "metadata": {
        "colab": {
          "base_uri": "https://localhost:8080/"
        },
        "id": "6298cefd",
        "outputId": "5f2ef64e-ba44-4cc7-c03a-737fb802b46c"
      },
      "outputs": [
        {
          "output_type": "stream",
          "name": "stdout",
          "text": [
            "7054/7054 [==============================] - 12s 2ms/step - loss: 0.0114 - accuracy: 0.9970\n",
            "Test accuracy: 0.9969961047172546\n"
          ]
        }
      ],
      "source": [
        "_, accuracy = model.evaluate(test_data, encoded_labels)\n",
        "\n",
        "print(f'Test accuracy: {accuracy}')"
      ]
    },
    {
      "cell_type": "code",
      "execution_count": 77,
      "id": "1099222b",
      "metadata": {
        "colab": {
          "base_uri": "https://localhost:8080/"
        },
        "id": "1099222b",
        "outputId": "c24452ff-beb4-4809-d0c1-23a54f1d7070"
      },
      "outputs": [
        {
          "output_type": "stream",
          "name": "stdout",
          "text": [
            "7054/7054 [==============================] - 10s 1ms/step\n"
          ]
        }
      ],
      "source": [
        "# Generate classification report\n",
        "predicted_labels = model.predict(test_data)"
      ]
    },
    {
      "cell_type": "code",
      "execution_count": 78,
      "id": "8e34ec83",
      "metadata": {
        "id": "8e34ec83"
      },
      "outputs": [],
      "source": [
        "predicted_labels = np.round(predicted_labels).astype(int)"
      ]
    },
    {
      "cell_type": "code",
      "execution_count": 79,
      "id": "309a912c",
      "metadata": {
        "colab": {
          "base_uri": "https://localhost:8080/"
        },
        "id": "309a912c",
        "outputId": "ebca76cf-90d5-40cc-cf93-53787d5e87b5"
      },
      "outputs": [
        {
          "output_type": "stream",
          "name": "stderr",
          "text": [
            "/usr/local/lib/python3.10/dist-packages/sklearn/preprocessing/_label.py:116: DataConversionWarning: A column-vector y was passed when a 1d array was expected. Please change the shape of y to (n_samples, ), for example using ravel().\n",
            "  y = column_or_1d(y, warn=True)\n"
          ]
        }
      ],
      "source": [
        "label_encoder = LabelEncoder()\n",
        "encoded_true_labels = label_encoder.fit_transform(test_labels)"
      ]
    },
    {
      "cell_type": "code",
      "execution_count": 80,
      "id": "753ebb8a",
      "metadata": {
        "colab": {
          "base_uri": "https://localhost:8080/"
        },
        "id": "753ebb8a",
        "outputId": "4e0a8410-27be-4df3-875d-ecc0581d49b8"
      },
      "outputs": [
        {
          "output_type": "stream",
          "name": "stdout",
          "text": [
            "              precision    recall  f1-score   support\n",
            "\n",
            "           0       1.00      1.00      1.00     97681\n",
            "           1       1.00      1.00      1.00    128025\n",
            "\n",
            "    accuracy                           1.00    225706\n",
            "   macro avg       1.00      1.00      1.00    225706\n",
            "weighted avg       1.00      1.00      1.00    225706\n",
            "\n"
          ]
        }
      ],
      "source": [
        "# Generate classification report\n",
        "report = classification_report(encoded_true_labels, predicted_labels)\n",
        "print(report)"
      ]
    },
    {
      "cell_type": "code",
      "execution_count": 81,
      "id": "c6313abf",
      "metadata": {
        "colab": {
          "base_uri": "https://localhost:8080/"
        },
        "id": "c6313abf",
        "outputId": "307d5c24-834e-4fea-b338-67cf167d4c19"
      },
      "outputs": [
        {
          "output_type": "stream",
          "name": "stdout",
          "text": [
            "validation time:  0.7163546085357666\n",
            "              precision    recall  f1-score   support\n",
            "\n",
            "           0       1.00      1.00      1.00     97681\n",
            "           1       1.00      1.00      1.00    128025\n",
            "\n",
            "    accuracy                           1.00    225706\n",
            "   macro avg       1.00      1.00      1.00    225706\n",
            "weighted avg       1.00      1.00      1.00    225706\n",
            "\n"
          ]
        }
      ],
      "source": [
        "# Generate classification report\n",
        "start_time = time.time()\n",
        "report = classification_report(encoded_true_labels, predicted_labels)\n",
        "stop_time = time.time()\n",
        "print(\"validation time: \",(stop_time-start_time))\n",
        "print(report)"
      ]
    },
    {
      "cell_type": "code",
      "execution_count": 82,
      "id": "a3a152ac",
      "metadata": {
        "colab": {
          "base_uri": "https://localhost:8080/"
        },
        "id": "a3a152ac",
        "outputId": "39182e2c-3d59-4cd2-b67c-b150232c70b0"
      },
      "outputs": [
        {
          "output_type": "stream",
          "name": "stdout",
          "text": [
            "File size: 0.002 Megabytes\n"
          ]
        }
      ],
      "source": [
        "convert_bytes(get_file_size('nbw_model.tflite'), \"MB\")"
      ]
    }
  ],
  "metadata": {
    "kernelspec": {
      "display_name": "Python 3 (ipykernel)",
      "language": "python",
      "name": "python3"
    },
    "language_info": {
      "codemirror_mode": {
        "name": "ipython",
        "version": 3
      },
      "file_extension": ".py",
      "mimetype": "text/x-python",
      "name": "python",
      "nbconvert_exporter": "python",
      "pygments_lexer": "ipython3",
      "version": "3.8.16"
    },
    "colab": {
      "provenance": [],
      "include_colab_link": true
    }
  },
  "nbformat": 4,
  "nbformat_minor": 5
}